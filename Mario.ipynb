{
 "cells": [
  {
   "cell_type": "markdown",
   "id": "ba92084f",
   "metadata": {},
   "source": [
    "# Mario"
   ]
  },
  {
   "cell_type": "markdown",
   "id": "f2fa3e04",
   "metadata": {},
   "source": [
    "# Setup Mario Environment"
   ]
  },
  {
   "cell_type": "code",
   "execution_count": 1,
   "id": "b7458c55",
   "metadata": {
    "ExecuteTime": {
     "end_time": "2023-08-02T15:19:09.223935Z",
     "start_time": "2023-08-02T15:19:08.848898Z"
    }
   },
   "outputs": [],
   "source": [
    "# Import the joypad wrappers\n",
    "from nes_py.wrappers import JoypadSpace\n",
    "# Import the game\n",
    "import gym_super_mario_bros\n",
    "# Import the simplified controls\n",
    "from gym_super_mario_bros.actions import SIMPLE_MOVEMENT"
   ]
  },
  {
   "cell_type": "code",
   "execution_count": 8,
   "id": "4a1f787e",
   "metadata": {},
   "outputs": [
    {
     "data": {
      "text/plain": [
       "[['NOOP'],\n",
       " ['right'],\n",
       " ['right', 'A'],\n",
       " ['right', 'B'],\n",
       " ['right', 'A', 'B'],\n",
       " ['A'],\n",
       " ['left']]"
      ]
     },
     "execution_count": 8,
     "metadata": {},
     "output_type": "execute_result"
    }
   ],
   "source": [
    "# Simplfy the movement of Mario using SIMPLE_Movement\n",
    "SIMPLE_MOVEMENT"
   ]
  },
  {
   "cell_type": "code",
   "execution_count": 13,
   "id": "ca5ad270",
   "metadata": {},
   "outputs": [],
   "source": [
    "# Setup the environment\n",
    "env = gym_super_mario_bros.make('SuperMarioBros-v0')\n",
    "env = JoypadSpace(env, SIMPLE_MOVEMENT) # Limit the action-space from 256 to the 7 basic actions by wrapping the environment in a JoypadSpace wrapper"
   ]
  },
  {
   "cell_type": "code",
   "execution_count": 4,
   "id": "1c6a389f",
   "metadata": {},
   "outputs": [
    {
     "data": {
      "text/plain": [
       "(240, 256, 3)"
      ]
     },
     "execution_count": 4,
     "metadata": {},
     "output_type": "execute_result"
    }
   ],
   "source": [
    "# to see what the environment looks like\n",
    "env.observation_space.shape  # 240 pixels by 256 pixels in 3 colors channels, which represents the frame of the game"
   ]
  },
  {
   "cell_type": "code",
   "execution_count": 49,
   "id": "0f64e01a",
   "metadata": {},
   "outputs": [
    {
     "name": "stderr",
     "output_type": "stream",
     "text": [
      "c:\\Users\\smyra\\anaconda3\\lib\\site-packages\\gym_super_mario_bros\\smb_env.py:148: RuntimeWarning: overflow encountered in ubyte_scalars\n",
      "  return (self.ram[0x86] - self.ram[0x071c]) % 256\n"
     ]
    },
    {
     "ename": "KeyboardInterrupt",
     "evalue": "",
     "output_type": "error",
     "traceback": [
      "\u001b[1;31m---------------------------------------------------------------------------\u001b[0m",
      "\u001b[1;31mKeyboardInterrupt\u001b[0m                         Traceback (most recent call last)",
      "\u001b[1;32mc:\\Users\\smyra\\jupyterNotebook Development\\ML&DL projects\\Mario\\Mario.ipynb Cell 6\u001b[0m in \u001b[0;36m<cell line: 4>\u001b[1;34m()\u001b[0m\n\u001b[0;32m      <a href='vscode-notebook-cell:/c%3A/Users/smyra/jupyterNotebook%20Development/ML%26DL%20projects/Mario/Mario.ipynb#X12sZmlsZQ%3D%3D?line=6'>7</a>\u001b[0m     state, reward, done, info \u001b[39m=\u001b[39m env\u001b[39m.\u001b[39mstep(env\u001b[39m.\u001b[39maction_space\u001b[39m.\u001b[39msample())\n\u001b[0;32m      <a href='vscode-notebook-cell:/c%3A/Users/smyra/jupyterNotebook%20Development/ML%26DL%20projects/Mario/Mario.ipynb#X12sZmlsZQ%3D%3D?line=7'>8</a>\u001b[0m     \u001b[39m# Show the game\u001b[39;00m\n\u001b[1;32m----> <a href='vscode-notebook-cell:/c%3A/Users/smyra/jupyterNotebook%20Development/ML%26DL%20projects/Mario/Mario.ipynb#X12sZmlsZQ%3D%3D?line=8'>9</a>\u001b[0m     env\u001b[39m.\u001b[39;49mrender()\n\u001b[0;32m     <a href='vscode-notebook-cell:/c%3A/Users/smyra/jupyterNotebook%20Development/ML%26DL%20projects/Mario/Mario.ipynb#X12sZmlsZQ%3D%3D?line=9'>10</a>\u001b[0m \u001b[39m# close the environment\u001b[39;00m\n\u001b[0;32m     <a href='vscode-notebook-cell:/c%3A/Users/smyra/jupyterNotebook%20Development/ML%26DL%20projects/Mario/Mario.ipynb#X12sZmlsZQ%3D%3D?line=10'>11</a>\u001b[0m env\u001b[39m.\u001b[39mclose()\n",
      "File \u001b[1;32mc:\\Users\\smyra\\anaconda3\\lib\\site-packages\\gym\\core.py:240\u001b[0m, in \u001b[0;36mWrapper.render\u001b[1;34m(self, mode, **kwargs)\u001b[0m\n\u001b[0;32m    239\u001b[0m \u001b[39mdef\u001b[39;00m \u001b[39mrender\u001b[39m(\u001b[39mself\u001b[39m, mode\u001b[39m=\u001b[39m\u001b[39m'\u001b[39m\u001b[39mhuman\u001b[39m\u001b[39m'\u001b[39m, \u001b[39m*\u001b[39m\u001b[39m*\u001b[39mkwargs):\n\u001b[1;32m--> 240\u001b[0m     \u001b[39mreturn\u001b[39;00m \u001b[39mself\u001b[39m\u001b[39m.\u001b[39menv\u001b[39m.\u001b[39mrender(mode, \u001b[39m*\u001b[39m\u001b[39m*\u001b[39mkwargs)\n",
      "File \u001b[1;32mc:\\Users\\smyra\\anaconda3\\lib\\site-packages\\gym\\core.py:240\u001b[0m, in \u001b[0;36mWrapper.render\u001b[1;34m(self, mode, **kwargs)\u001b[0m\n\u001b[0;32m    239\u001b[0m \u001b[39mdef\u001b[39;00m \u001b[39mrender\u001b[39m(\u001b[39mself\u001b[39m, mode\u001b[39m=\u001b[39m\u001b[39m'\u001b[39m\u001b[39mhuman\u001b[39m\u001b[39m'\u001b[39m, \u001b[39m*\u001b[39m\u001b[39m*\u001b[39mkwargs):\n\u001b[1;32m--> 240\u001b[0m     \u001b[39mreturn\u001b[39;00m \u001b[39mself\u001b[39m\u001b[39m.\u001b[39menv\u001b[39m.\u001b[39mrender(mode, \u001b[39m*\u001b[39m\u001b[39m*\u001b[39mkwargs)\n",
      "File \u001b[1;32mc:\\Users\\smyra\\anaconda3\\lib\\site-packages\\gym\\core.py:240\u001b[0m, in \u001b[0;36mWrapper.render\u001b[1;34m(self, mode, **kwargs)\u001b[0m\n\u001b[0;32m    239\u001b[0m \u001b[39mdef\u001b[39;00m \u001b[39mrender\u001b[39m(\u001b[39mself\u001b[39m, mode\u001b[39m=\u001b[39m\u001b[39m'\u001b[39m\u001b[39mhuman\u001b[39m\u001b[39m'\u001b[39m, \u001b[39m*\u001b[39m\u001b[39m*\u001b[39mkwargs):\n\u001b[1;32m--> 240\u001b[0m     \u001b[39mreturn\u001b[39;00m \u001b[39mself\u001b[39m\u001b[39m.\u001b[39menv\u001b[39m.\u001b[39mrender(mode, \u001b[39m*\u001b[39m\u001b[39m*\u001b[39mkwargs)\n",
      "File \u001b[1;32mc:\\Users\\smyra\\anaconda3\\lib\\site-packages\\nes_py\\nes_env.py:386\u001b[0m, in \u001b[0;36mNESEnv.render\u001b[1;34m(self, mode)\u001b[0m\n\u001b[0;32m    380\u001b[0m         \u001b[39mself\u001b[39m\u001b[39m.\u001b[39mviewer \u001b[39m=\u001b[39m ImageViewer(\n\u001b[0;32m    381\u001b[0m             caption\u001b[39m=\u001b[39mcaption,\n\u001b[0;32m    382\u001b[0m             height\u001b[39m=\u001b[39mSCREEN_HEIGHT,\n\u001b[0;32m    383\u001b[0m             width\u001b[39m=\u001b[39mSCREEN_WIDTH,\n\u001b[0;32m    384\u001b[0m         )\n\u001b[0;32m    385\u001b[0m     \u001b[39m# show the screen on the image viewer\u001b[39;00m\n\u001b[1;32m--> 386\u001b[0m     \u001b[39mself\u001b[39;49m\u001b[39m.\u001b[39;49mviewer\u001b[39m.\u001b[39;49mshow(\u001b[39mself\u001b[39;49m\u001b[39m.\u001b[39;49mscreen)\n\u001b[0;32m    387\u001b[0m \u001b[39melif\u001b[39;00m mode \u001b[39m==\u001b[39m \u001b[39m'\u001b[39m\u001b[39mrgb_array\u001b[39m\u001b[39m'\u001b[39m:\n\u001b[0;32m    388\u001b[0m     \u001b[39mreturn\u001b[39;00m \u001b[39mself\u001b[39m\u001b[39m.\u001b[39mscreen\n",
      "File \u001b[1;32mc:\\Users\\smyra\\anaconda3\\lib\\site-packages\\nes_py\\_image_viewer.py:148\u001b[0m, in \u001b[0;36mImageViewer.show\u001b[1;34m(self, frame)\u001b[0m\n\u001b[0;32m    140\u001b[0m image \u001b[39m=\u001b[39m \u001b[39mself\u001b[39m\u001b[39m.\u001b[39mpyglet\u001b[39m.\u001b[39mimage\u001b[39m.\u001b[39mImageData(\n\u001b[0;32m    141\u001b[0m     frame\u001b[39m.\u001b[39mshape[\u001b[39m1\u001b[39m],\n\u001b[0;32m    142\u001b[0m     frame\u001b[39m.\u001b[39mshape[\u001b[39m0\u001b[39m],\n\u001b[1;32m   (...)\u001b[0m\n\u001b[0;32m    145\u001b[0m     pitch\u001b[39m=\u001b[39mframe\u001b[39m.\u001b[39mshape[\u001b[39m1\u001b[39m]\u001b[39m*\u001b[39m\u001b[39m-\u001b[39m\u001b[39m3\u001b[39m\n\u001b[0;32m    146\u001b[0m )\n\u001b[0;32m    147\u001b[0m \u001b[39m# send the image to the window\u001b[39;00m\n\u001b[1;32m--> 148\u001b[0m image\u001b[39m.\u001b[39;49mblit(\u001b[39m0\u001b[39;49m, \u001b[39m0\u001b[39;49m, width\u001b[39m=\u001b[39;49m\u001b[39mself\u001b[39;49m\u001b[39m.\u001b[39;49m_window\u001b[39m.\u001b[39;49mwidth, height\u001b[39m=\u001b[39;49m\u001b[39mself\u001b[39;49m\u001b[39m.\u001b[39;49m_window\u001b[39m.\u001b[39;49mheight)\n\u001b[0;32m    149\u001b[0m \u001b[39mself\u001b[39m\u001b[39m.\u001b[39m_window\u001b[39m.\u001b[39mflip()\n",
      "File \u001b[1;32mc:\\Users\\smyra\\anaconda3\\lib\\site-packages\\pyglet\\image\\__init__.py:901\u001b[0m, in \u001b[0;36mImageData.blit\u001b[1;34m(self, x, y, z, width, height)\u001b[0m\n\u001b[0;32m    900\u001b[0m \u001b[39mdef\u001b[39;00m \u001b[39mblit\u001b[39m(\u001b[39mself\u001b[39m, x, y, z\u001b[39m=\u001b[39m\u001b[39m0\u001b[39m, width\u001b[39m=\u001b[39m\u001b[39mNone\u001b[39;00m, height\u001b[39m=\u001b[39m\u001b[39mNone\u001b[39;00m):\n\u001b[1;32m--> 901\u001b[0m     \u001b[39mself\u001b[39;49m\u001b[39m.\u001b[39;49mget_texture()\u001b[39m.\u001b[39mblit(x, y, z, width, height)\n",
      "File \u001b[1;32mc:\\Users\\smyra\\anaconda3\\lib\\site-packages\\pyglet\\image\\__init__.py:832\u001b[0m, in \u001b[0;36mImageData.get_texture\u001b[1;34m(self, rectangle, force_rectangle)\u001b[0m\n\u001b[0;32m    829\u001b[0m \u001b[39mdef\u001b[39;00m \u001b[39mget_texture\u001b[39m(\u001b[39mself\u001b[39m, rectangle\u001b[39m=\u001b[39m\u001b[39mFalse\u001b[39;00m, force_rectangle\u001b[39m=\u001b[39m\u001b[39mFalse\u001b[39;00m):\n\u001b[0;32m    830\u001b[0m     \u001b[39mif\u001b[39;00m (\u001b[39mnot\u001b[39;00m \u001b[39mself\u001b[39m\u001b[39m.\u001b[39m_current_texture \u001b[39mor\u001b[39;00m\n\u001b[0;32m    831\u001b[0m             (\u001b[39mnot\u001b[39;00m \u001b[39mself\u001b[39m\u001b[39m.\u001b[39m_current_texture\u001b[39m.\u001b[39m_is_rectangle \u001b[39mand\u001b[39;00m force_rectangle)):\n\u001b[1;32m--> 832\u001b[0m         \u001b[39mself\u001b[39m\u001b[39m.\u001b[39m_current_texture \u001b[39m=\u001b[39m \u001b[39mself\u001b[39;49m\u001b[39m.\u001b[39;49mcreate_texture(Texture, rectangle, force_rectangle)\n\u001b[0;32m    833\u001b[0m     \u001b[39mreturn\u001b[39;00m \u001b[39mself\u001b[39m\u001b[39m.\u001b[39m_current_texture\n",
      "File \u001b[1;32mc:\\Users\\smyra\\anaconda3\\lib\\site-packages\\pyglet\\image\\__init__.py:818\u001b[0m, in \u001b[0;36mImageData.create_texture\u001b[1;34m(self, cls, rectangle, force_rectangle)\u001b[0m\n\u001b[0;32m    795\u001b[0m \u001b[39m\"\"\"Create a texture containing this image.\u001b[39;00m\n\u001b[0;32m    796\u001b[0m \n\u001b[0;32m    797\u001b[0m \u001b[39mIf the image's dimensions are not powers of 2, a TextureRegion of\u001b[39;00m\n\u001b[1;32m   (...)\u001b[0m\n\u001b[0;32m    815\u001b[0m \u001b[39m:rtype: cls or cls.region_class\u001b[39;00m\n\u001b[0;32m    816\u001b[0m \u001b[39m\"\"\"\u001b[39;00m\n\u001b[0;32m    817\u001b[0m internalformat \u001b[39m=\u001b[39m \u001b[39mself\u001b[39m\u001b[39m.\u001b[39m_get_internalformat(\u001b[39mself\u001b[39m\u001b[39m.\u001b[39mformat)\n\u001b[1;32m--> 818\u001b[0m texture \u001b[39m=\u001b[39m \u001b[39mcls\u001b[39;49m\u001b[39m.\u001b[39;49mcreate(\u001b[39mself\u001b[39;49m\u001b[39m.\u001b[39;49mwidth, \u001b[39mself\u001b[39;49m\u001b[39m.\u001b[39;49mheight, internalformat,\n\u001b[0;32m    819\u001b[0m                      rectangle, force_rectangle)\n\u001b[0;32m    820\u001b[0m \u001b[39mif\u001b[39;00m \u001b[39mself\u001b[39m\u001b[39m.\u001b[39manchor_x \u001b[39mor\u001b[39;00m \u001b[39mself\u001b[39m\u001b[39m.\u001b[39manchor_y:\n\u001b[0;32m    821\u001b[0m     texture\u001b[39m.\u001b[39manchor_x \u001b[39m=\u001b[39m \u001b[39mself\u001b[39m\u001b[39m.\u001b[39manchor_x\n",
      "File \u001b[1;32mc:\\Users\\smyra\\anaconda3\\lib\\site-packages\\pyglet\\image\\__init__.py:1485\u001b[0m, in \u001b[0;36mTexture.create\u001b[1;34m(cls, width, height, internalformat, rectangle, force_rectangle, min_filter, mag_filter)\u001b[0m\n\u001b[0;32m   1479\u001b[0m     texture\u001b[39m.\u001b[39m_is_rectangle \u001b[39m=\u001b[39m \u001b[39mTrue\u001b[39;00m\n\u001b[0;32m   1480\u001b[0m     texture\u001b[39m.\u001b[39mtex_coords \u001b[39m=\u001b[39m (\u001b[39m0.\u001b[39m, \u001b[39m0.\u001b[39m, \u001b[39m0.\u001b[39m,\n\u001b[0;32m   1481\u001b[0m                           width, \u001b[39m0.\u001b[39m, \u001b[39m0.\u001b[39m,\n\u001b[0;32m   1482\u001b[0m                           width, height, \u001b[39m0.\u001b[39m,\n\u001b[0;32m   1483\u001b[0m                           \u001b[39m0.\u001b[39m, height, \u001b[39m0.\u001b[39m)\n\u001b[1;32m-> 1485\u001b[0m glFlush()\n\u001b[0;32m   1487\u001b[0m \u001b[39mif\u001b[39;00m texture_width \u001b[39m==\u001b[39m width \u001b[39mand\u001b[39;00m texture_height \u001b[39m==\u001b[39m height:\n\u001b[0;32m   1488\u001b[0m     \u001b[39mreturn\u001b[39;00m texture\n",
      "File \u001b[1;32mc:\\Users\\smyra\\anaconda3\\lib\\site-packages\\pyglet\\gl\\lib.py:87\u001b[0m, in \u001b[0;36merrcheck\u001b[1;34m(result, func, arguments)\u001b[0m\n\u001b[0;32m     83\u001b[0m \u001b[39mclass\u001b[39;00m \u001b[39mGLException\u001b[39;00m(\u001b[39mException\u001b[39;00m):\n\u001b[0;32m     84\u001b[0m     \u001b[39mpass\u001b[39;00m\n\u001b[1;32m---> 87\u001b[0m \u001b[39mdef\u001b[39;00m \u001b[39merrcheck\u001b[39m(result, func, arguments):\n\u001b[0;32m     88\u001b[0m     \u001b[39mif\u001b[39;00m _debug_gl_trace:\n\u001b[0;32m     89\u001b[0m         \u001b[39mtry\u001b[39;00m:\n",
      "\u001b[1;31mKeyboardInterrupt\u001b[0m: "
     ]
    },
    {
     "ename": "",
     "evalue": "",
     "output_type": "error",
     "traceback": [
      "\u001b[1;31mThe Kernel crashed while executing code in the the current cell or a previous cell. Please review the code in the cell(s) to identify a possible cause of the failure. Click <a href='https://aka.ms/vscodeJupyterKernelCrash'>here</a> for more info. View Jupyter <a href='command:jupyter.viewOutput'>log</a> for further details."
     ]
    }
   ],
   "source": [
    "# Randomly test the environment\n",
    "done = True \n",
    "# Loop through 100000 steps (each frame in the game)\n",
    "for step in range(100000):\n",
    "    if done:\n",
    "        env.reset()\n",
    "    state, reward, done, info = env.step(env.action_space.sample())\n",
    "    # Show the game\n",
    "    env.render()\n",
    "# close the environment\n",
    "env.close()\n"
   ]
  },
  {
   "cell_type": "code",
   "execution_count": 15,
   "id": "ff07c947",
   "metadata": {},
   "outputs": [],
   "source": [
    "state = env.reset() # state is a frame in the game"
   ]
  },
  {
   "cell_type": "markdown",
   "id": "af66094e",
   "metadata": {},
   "source": [
    "# Preprocessing Environment"
   ]
  },
  {
   "cell_type": "code",
   "execution_count": 44,
   "id": "b79751b7",
   "metadata": {},
   "outputs": [],
   "source": [
    "# Import Frame Stacker Wrapper and GrayScaling Wrapper\n",
    "from gym.wrappers import GrayScaleObservation\n",
    "# Import Vectorization Wrappers\n",
    "from stable_baselines3.common.vec_env import VecFrameStack, SubprocVecEnv, DummyVecEnv\n",
    "# Import Matplotlib to show the impact of frame stacking\n",
    "from matplotlib import pyplot as plt"
   ]
  },
  {
   "cell_type": "code",
   "execution_count": 36,
   "id": "bc0d562b",
   "metadata": {},
   "outputs": [],
   "source": [
    "# Create the base environment\n",
    "env = gym_super_mario_bros.make('SuperMarioBros-v0')\n",
    "# Simplify the controls\n",
    "env = JoypadSpace(env, SIMPLE_MOVEMENT) # Limit the action-space from 256 to the 7 basic actions by wrapping the environment in a JoypadSpace wrapper"
   ]
  },
  {
   "cell_type": "code",
   "execution_count": 37,
   "id": "00e82004",
   "metadata": {},
   "outputs": [],
   "source": [
    "\n",
    "# Gray-scale and down-sample in order to reduce the computation time for the Reinforcement Learning model\n",
    "env = GrayScaleObservation(env, keep_dim=True) # Color channels will become 1"
   ]
  },
  {
   "cell_type": "code",
   "execution_count": 48,
   "id": "9e432a55",
   "metadata": {},
   "outputs": [
    {
     "name": "stderr",
     "output_type": "stream",
     "text": [
      "c:\\Users\\smyra\\anaconda3\\lib\\site-packages\\stable_baselines3\\common\\vec_env\\patch_gym.py:49: UserWarning: You provided an OpenAI Gym environment. We strongly recommend transitioning to Gymnasium environments. Stable-Baselines3 is automatically wrapping your environments in a compatibility layer, which could potentially cause issues.\n",
      "  warnings.warn(\n"
     ]
    },
    {
     "ename": "AttributeError",
     "evalue": "'SuperMarioBrosEnv' object has no attribute 'render_mode'",
     "output_type": "error",
     "traceback": [
      "\u001b[1;31m---------------------------------------------------------------------------\u001b[0m",
      "\u001b[1;31mAttributeError\u001b[0m                            Traceback (most recent call last)",
      "\u001b[1;32mc:\\Users\\smyra\\jupyterNotebook Development\\ML&DL projects\\Mario\\Mario.ipynb Cell 12\u001b[0m in \u001b[0;36m<cell line: 17>\u001b[1;34m()\u001b[0m\n\u001b[0;32m     <a href='vscode-notebook-cell:/c%3A/Users/smyra/jupyterNotebook%20Development/ML%26DL%20projects/Mario/Mario.ipynb#X34sZmlsZQ%3D%3D?line=13'>14</a>\u001b[0m num_envs \u001b[39m=\u001b[39m \u001b[39m4\u001b[39m\n\u001b[0;32m     <a href='vscode-notebook-cell:/c%3A/Users/smyra/jupyterNotebook%20Development/ML%26DL%20projects/Mario/Mario.ipynb#X34sZmlsZQ%3D%3D?line=15'>16</a>\u001b[0m \u001b[39m# Create the vectorized environment\u001b[39;00m\n\u001b[1;32m---> <a href='vscode-notebook-cell:/c%3A/Users/smyra/jupyterNotebook%20Development/ML%26DL%20projects/Mario/Mario.ipynb#X34sZmlsZQ%3D%3D?line=16'>17</a>\u001b[0m env \u001b[39m=\u001b[39m DummyVecEnv([make_env(\u001b[39m'\u001b[39;49m\u001b[39mSuperMarioBros-v0\u001b[39;49m\u001b[39m'\u001b[39;49m, i) \u001b[39mfor\u001b[39;49;00m i \u001b[39min\u001b[39;49;00m \u001b[39mrange\u001b[39;49m(num_envs)])\n",
      "File \u001b[1;32mc:\\Users\\smyra\\anaconda3\\lib\\site-packages\\stable_baselines3\\common\\vec_env\\dummy_vec_env.py:30\u001b[0m, in \u001b[0;36mDummyVecEnv.__init__\u001b[1;34m(self, env_fns)\u001b[0m\n\u001b[0;32m     29\u001b[0m \u001b[39mdef\u001b[39;00m \u001b[39m__init__\u001b[39m(\u001b[39mself\u001b[39m, env_fns: List[Callable[[], gym\u001b[39m.\u001b[39mEnv]]):\n\u001b[1;32m---> 30\u001b[0m     \u001b[39mself\u001b[39m\u001b[39m.\u001b[39menvs \u001b[39m=\u001b[39m [_patch_env(fn()) \u001b[39mfor\u001b[39;00m fn \u001b[39min\u001b[39;00m env_fns]\n\u001b[0;32m     31\u001b[0m     \u001b[39mif\u001b[39;00m \u001b[39mlen\u001b[39m(\u001b[39mset\u001b[39m([\u001b[39mid\u001b[39m(env\u001b[39m.\u001b[39munwrapped) \u001b[39mfor\u001b[39;00m env \u001b[39min\u001b[39;00m \u001b[39mself\u001b[39m\u001b[39m.\u001b[39menvs])) \u001b[39m!=\u001b[39m \u001b[39mlen\u001b[39m(\u001b[39mself\u001b[39m\u001b[39m.\u001b[39menvs):\n\u001b[0;32m     32\u001b[0m         \u001b[39mraise\u001b[39;00m \u001b[39mValueError\u001b[39;00m(\n\u001b[0;32m     33\u001b[0m             \u001b[39m\"\u001b[39m\u001b[39mYou tried to create multiple environments, but the function to create them returned the same instance \u001b[39m\u001b[39m\"\u001b[39m\n\u001b[0;32m     34\u001b[0m             \u001b[39m\"\u001b[39m\u001b[39minstead of creating different objects. \u001b[39m\u001b[39m\"\u001b[39m\n\u001b[1;32m   (...)\u001b[0m\n\u001b[0;32m     39\u001b[0m             \u001b[39m\"\u001b[39m\u001b[39mPlease read https://github.com/DLR-RM/stable-baselines3/issues/1151 for more information.\u001b[39m\u001b[39m\"\u001b[39m\n\u001b[0;32m     40\u001b[0m         )\n",
      "File \u001b[1;32mc:\\Users\\smyra\\anaconda3\\lib\\site-packages\\stable_baselines3\\common\\vec_env\\dummy_vec_env.py:30\u001b[0m, in \u001b[0;36m<listcomp>\u001b[1;34m(.0)\u001b[0m\n\u001b[0;32m     29\u001b[0m \u001b[39mdef\u001b[39;00m \u001b[39m__init__\u001b[39m(\u001b[39mself\u001b[39m, env_fns: List[Callable[[], gym\u001b[39m.\u001b[39mEnv]]):\n\u001b[1;32m---> 30\u001b[0m     \u001b[39mself\u001b[39m\u001b[39m.\u001b[39menvs \u001b[39m=\u001b[39m [_patch_env(fn()) \u001b[39mfor\u001b[39;00m fn \u001b[39min\u001b[39;00m env_fns]\n\u001b[0;32m     31\u001b[0m     \u001b[39mif\u001b[39;00m \u001b[39mlen\u001b[39m(\u001b[39mset\u001b[39m([\u001b[39mid\u001b[39m(env\u001b[39m.\u001b[39munwrapped) \u001b[39mfor\u001b[39;00m env \u001b[39min\u001b[39;00m \u001b[39mself\u001b[39m\u001b[39m.\u001b[39menvs])) \u001b[39m!=\u001b[39m \u001b[39mlen\u001b[39m(\u001b[39mself\u001b[39m\u001b[39m.\u001b[39menvs):\n\u001b[0;32m     32\u001b[0m         \u001b[39mraise\u001b[39;00m \u001b[39mValueError\u001b[39;00m(\n\u001b[0;32m     33\u001b[0m             \u001b[39m\"\u001b[39m\u001b[39mYou tried to create multiple environments, but the function to create them returned the same instance \u001b[39m\u001b[39m\"\u001b[39m\n\u001b[0;32m     34\u001b[0m             \u001b[39m\"\u001b[39m\u001b[39minstead of creating different objects. \u001b[39m\u001b[39m\"\u001b[39m\n\u001b[1;32m   (...)\u001b[0m\n\u001b[0;32m     39\u001b[0m             \u001b[39m\"\u001b[39m\u001b[39mPlease read https://github.com/DLR-RM/stable-baselines3/issues/1151 for more information.\u001b[39m\u001b[39m\"\u001b[39m\n\u001b[0;32m     40\u001b[0m         )\n",
      "File \u001b[1;32mc:\\Users\\smyra\\anaconda3\\lib\\site-packages\\stable_baselines3\\common\\vec_env\\patch_gym.py:58\u001b[0m, in \u001b[0;36m_patch_env\u001b[1;34m(env)\u001b[0m\n\u001b[0;32m     49\u001b[0m warnings\u001b[39m.\u001b[39mwarn(\n\u001b[0;32m     50\u001b[0m     \u001b[39m\"\u001b[39m\u001b[39mYou provided an OpenAI Gym environment. \u001b[39m\u001b[39m\"\u001b[39m\n\u001b[0;32m     51\u001b[0m     \u001b[39m\"\u001b[39m\u001b[39mWe strongly recommend transitioning to Gymnasium environments. \u001b[39m\u001b[39m\"\u001b[39m\n\u001b[0;32m     52\u001b[0m     \u001b[39m\"\u001b[39m\u001b[39mStable-Baselines3 is automatically wrapping your environments in a compatibility \u001b[39m\u001b[39m\"\u001b[39m\n\u001b[0;32m     53\u001b[0m     \u001b[39m\"\u001b[39m\u001b[39mlayer, which could potentially cause issues.\u001b[39m\u001b[39m\"\u001b[39m\n\u001b[0;32m     54\u001b[0m )\n\u001b[0;32m     56\u001b[0m \u001b[39mif\u001b[39;00m \u001b[39m\"\u001b[39m\u001b[39mseed\u001b[39m\u001b[39m\"\u001b[39m \u001b[39min\u001b[39;00m signature(env\u001b[39m.\u001b[39munwrapped\u001b[39m.\u001b[39mreset)\u001b[39m.\u001b[39mparameters:\n\u001b[0;32m     57\u001b[0m     \u001b[39m# Gym 0.26+ env\u001b[39;00m\n\u001b[1;32m---> 58\u001b[0m     \u001b[39mreturn\u001b[39;00m shimmy\u001b[39m.\u001b[39;49mGymV26CompatibilityV0(env\u001b[39m=\u001b[39;49menv)\n\u001b[0;32m     59\u001b[0m \u001b[39m# Gym 0.21 env\u001b[39;00m\n\u001b[0;32m     60\u001b[0m \u001b[39mreturn\u001b[39;00m shimmy\u001b[39m.\u001b[39mGymV21CompatibilityV0(env\u001b[39m=\u001b[39menv)\n",
      "File \u001b[1;32mc:\\Users\\smyra\\anaconda3\\lib\\site-packages\\shimmy\\openai_gym_compatibility.py:90\u001b[0m, in \u001b[0;36mGymV26CompatibilityV0.__init__\u001b[1;34m(self, env_id, make_kwargs, env)\u001b[0m\n\u001b[0;32m     87\u001b[0m \u001b[39mself\u001b[39m\u001b[39m.\u001b[39maction_space \u001b[39m=\u001b[39m _convert_space(\u001b[39mself\u001b[39m\u001b[39m.\u001b[39mgym_env\u001b[39m.\u001b[39maction_space)\n\u001b[0;32m     89\u001b[0m \u001b[39mself\u001b[39m\u001b[39m.\u001b[39mmetadata \u001b[39m=\u001b[39m \u001b[39mgetattr\u001b[39m(\u001b[39mself\u001b[39m\u001b[39m.\u001b[39mgym_env, \u001b[39m\"\u001b[39m\u001b[39mmetadata\u001b[39m\u001b[39m\"\u001b[39m, {\u001b[39m\"\u001b[39m\u001b[39mrender_modes\u001b[39m\u001b[39m\"\u001b[39m: []})\n\u001b[1;32m---> 90\u001b[0m \u001b[39mself\u001b[39m\u001b[39m.\u001b[39mrender_mode \u001b[39m=\u001b[39m \u001b[39mself\u001b[39;49m\u001b[39m.\u001b[39;49mgym_env\u001b[39m.\u001b[39;49mrender_mode\n\u001b[0;32m     91\u001b[0m \u001b[39mself\u001b[39m\u001b[39m.\u001b[39mreward_range \u001b[39m=\u001b[39m \u001b[39mgetattr\u001b[39m(\u001b[39mself\u001b[39m\u001b[39m.\u001b[39mgym_env, \u001b[39m\"\u001b[39m\u001b[39mreward_range\u001b[39m\u001b[39m\"\u001b[39m, \u001b[39mNone\u001b[39;00m)\n\u001b[0;32m     92\u001b[0m \u001b[39mself\u001b[39m\u001b[39m.\u001b[39mspec \u001b[39m=\u001b[39m \u001b[39mgetattr\u001b[39m(\u001b[39mself\u001b[39m\u001b[39m.\u001b[39mgym_env, \u001b[39m\"\u001b[39m\u001b[39mspec\u001b[39m\u001b[39m\"\u001b[39m, \u001b[39mNone\u001b[39;00m)\n",
      "File \u001b[1;32mc:\\Users\\smyra\\anaconda3\\lib\\site-packages\\gym\\core.py:223\u001b[0m, in \u001b[0;36mWrapper.__getattr__\u001b[1;34m(self, name)\u001b[0m\n\u001b[0;32m    221\u001b[0m \u001b[39mif\u001b[39;00m name\u001b[39m.\u001b[39mstartswith(\u001b[39m'\u001b[39m\u001b[39m_\u001b[39m\u001b[39m'\u001b[39m):\n\u001b[0;32m    222\u001b[0m     \u001b[39mraise\u001b[39;00m \u001b[39mAttributeError\u001b[39;00m(\u001b[39m\"\u001b[39m\u001b[39mattempted to get missing private attribute \u001b[39m\u001b[39m'\u001b[39m\u001b[39m{}\u001b[39;00m\u001b[39m'\u001b[39m\u001b[39m\"\u001b[39m\u001b[39m.\u001b[39mformat(name))\n\u001b[1;32m--> 223\u001b[0m \u001b[39mreturn\u001b[39;00m \u001b[39mgetattr\u001b[39;49m(\u001b[39mself\u001b[39;49m\u001b[39m.\u001b[39;49menv, name)\n",
      "\u001b[1;31mAttributeError\u001b[0m: 'SuperMarioBrosEnv' object has no attribute 'render_mode'"
     ]
    }
   ],
   "source": [
    "\n",
    "# warp inside the Dummy Enivornment\n",
    " # Vectorize the environment to run multiple instances of the environment at the same time\n",
    "import gym\n",
    "\n",
    "# Create a function to make the environment\n",
    "def make_env(env_id, rank, seed=0):\n",
    "    def _init():\n",
    "        env = gym.make(env_id)\n",
    "        env.seed(seed + rank)\n",
    "        return env\n",
    "    return _init\n",
    "\n",
    "# Set the number of environments to use\n",
    "num_envs = 4\n",
    "\n",
    "# Create the vectorized environment\n",
    "env = DummyVecEnv([make_env('SuperMarioBros-v0', i) for i in range(num_envs)])\n",
    "\n"
   ]
  },
  {
   "cell_type": "code",
   "execution_count": null,
   "id": "d0e8899f",
   "metadata": {},
   "outputs": [],
   "source": [
    "\n",
    "# Stack frames this will give the agent some kind of memory\n",
    "env = VecFrameStack(env, n_stack=4, channels_order= 'last') # Stack 4 consecutive frames together to give the agent a sense of motion"
   ]
  },
  {
   "cell_type": "code",
   "execution_count": 21,
   "id": "5a1eabc3",
   "metadata": {},
   "outputs": [],
   "source": [
    "state = env.reset()"
   ]
  },
  {
   "cell_type": "code",
   "execution_count": 22,
   "id": "b7b0d174",
   "metadata": {},
   "outputs": [
    {
     "ename": "TypeError",
     "evalue": "unhashable type: 'list'",
     "output_type": "error",
     "traceback": [
      "\u001b[1;31m---------------------------------------------------------------------------\u001b[0m",
      "\u001b[1;31mTypeError\u001b[0m                                 Traceback (most recent call last)",
      "\u001b[1;32mc:\\Users\\smyra\\jupyterNotebook Development\\ML&DL projects\\Mario\\Mario.ipynb Cell 12\u001b[0m in \u001b[0;36m<cell line: 1>\u001b[1;34m()\u001b[0m\n\u001b[1;32m----> <a href='vscode-notebook-cell:/c%3A/Users/smyra/jupyterNotebook%20Development/ML%26DL%20projects/Mario/Mario.ipynb#X24sZmlsZQ%3D%3D?line=0'>1</a>\u001b[0m state, reward, done, info \u001b[39m=\u001b[39m env\u001b[39m.\u001b[39;49mstep([\u001b[39m5\u001b[39;49m])\n",
      "File \u001b[1;32mc:\\Users\\smyra\\anaconda3\\lib\\site-packages\\nes_py\\wrappers\\joypad_space.py:74\u001b[0m, in \u001b[0;36mJoypadSpace.step\u001b[1;34m(self, action)\u001b[0m\n\u001b[0;32m     59\u001b[0m \u001b[39m\"\"\"\u001b[39;00m\n\u001b[0;32m     60\u001b[0m \u001b[39mTake a step using the given action.\u001b[39;00m\n\u001b[0;32m     61\u001b[0m \n\u001b[1;32m   (...)\u001b[0m\n\u001b[0;32m     71\u001b[0m \n\u001b[0;32m     72\u001b[0m \u001b[39m\"\"\"\u001b[39;00m\n\u001b[0;32m     73\u001b[0m \u001b[39m# take the step and record the output\u001b[39;00m\n\u001b[1;32m---> 74\u001b[0m \u001b[39mreturn\u001b[39;00m \u001b[39mself\u001b[39m\u001b[39m.\u001b[39menv\u001b[39m.\u001b[39mstep(\u001b[39mself\u001b[39;49m\u001b[39m.\u001b[39;49m_action_map[action])\n",
      "\u001b[1;31mTypeError\u001b[0m: unhashable type: 'list'"
     ]
    }
   ],
   "source": [
    "state, reward, done, info = env.step([5])"
   ]
  },
  {
   "cell_type": "markdown",
   "id": "0b9f6164",
   "metadata": {},
   "source": [
    "# "
   ]
  }
 ],
 "metadata": {
  "kernelspec": {
   "display_name": "Python 3 (ipykernel)",
   "language": "python",
   "name": "python3"
  },
  "language_info": {
   "codemirror_mode": {
    "name": "ipython",
    "version": 3
   },
   "file_extension": ".py",
   "mimetype": "text/x-python",
   "name": "python",
   "nbconvert_exporter": "python",
   "pygments_lexer": "ipython3",
   "version": "3.9.12"
  },
  "varInspector": {
   "cols": {
    "lenName": 16,
    "lenType": 16,
    "lenVar": 40
   },
   "kernels_config": {
    "python": {
     "delete_cmd_postfix": "",
     "delete_cmd_prefix": "del ",
     "library": "var_list.py",
     "varRefreshCmd": "print(var_dic_list())"
    },
    "r": {
     "delete_cmd_postfix": ") ",
     "delete_cmd_prefix": "rm(",
     "library": "var_list.r",
     "varRefreshCmd": "cat(var_dic_list()) "
    }
   },
   "types_to_exclude": [
    "module",
    "function",
    "builtin_function_or_method",
    "instance",
    "_Feature"
   ],
   "window_display": false
  }
 },
 "nbformat": 4,
 "nbformat_minor": 5
}
