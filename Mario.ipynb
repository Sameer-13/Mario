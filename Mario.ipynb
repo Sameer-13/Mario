{
 "cells": [
  {
   "cell_type": "markdown",
   "id": "f2fa3e04",
   "metadata": {},
   "source": [
    "# Setup Mario Environment"
   ]
  },
  {
   "cell_type": "code",
   "execution_count": 1,
   "id": "b7458c55",
   "metadata": {
    "ExecuteTime": {
     "end_time": "2023-08-02T15:19:09.223935Z",
     "start_time": "2023-08-02T15:19:08.848898Z"
    }
   },
   "outputs": [],
   "source": [
    "# Import the joypad wrappers\n",
    "from nes_py.wrappers import JoypadSpace\n",
    "# Import the game\n",
    "import gym_super_mario_bros\n",
    "# Import the simplified controls\n",
    "from gym_super_mario_bros.actions import SIMPLE_MOVEMENT"
   ]
  },
  {
   "cell_type": "code",
   "execution_count": 8,
   "id": "4a1f787e",
   "metadata": {},
   "outputs": [
    {
     "data": {
      "text/plain": [
       "[['NOOP'],\n",
       " ['right'],\n",
       " ['right', 'A'],\n",
       " ['right', 'B'],\n",
       " ['right', 'A', 'B'],\n",
       " ['A'],\n",
       " ['left']]"
      ]
     },
     "execution_count": 8,
     "metadata": {},
     "output_type": "execute_result"
    }
   ],
   "source": [
    "# Simplfy the movement of Mario using SIMPLE_Movement\n",
    "SIMPLE_MOVEMENT"
   ]
  },
  {
   "cell_type": "code",
   "execution_count": 13,
   "id": "ca5ad270",
   "metadata": {},
   "outputs": [],
   "source": [
    "# Setup the environment\n",
    "env = gym_super_mario_bros.make('SuperMarioBros-v0')\n",
    "env = JoypadSpace(env, SIMPLE_MOVEMENT) # Limit the action-space from 256 to the 7 basic actions by wrapping the environment in a JoypadSpace wrapper"
   ]
  },
  {
   "cell_type": "code",
   "execution_count": 4,
   "id": "1c6a389f",
   "metadata": {},
   "outputs": [
    {
     "data": {
      "text/plain": [
       "(240, 256, 3)"
      ]
     },
     "execution_count": 4,
     "metadata": {},
     "output_type": "execute_result"
    }
   ],
   "source": [
    "# to see what the environment looks like\n",
    "env.observation_space.shape  # 240 pixcl by 256 and 3, which represents the frame of the game"
   ]
  },
  {
   "cell_type": "code",
   "execution_count": null,
   "id": "0f64e01a",
   "metadata": {},
   "outputs": [],
   "source": [
    "# Randomly test the environment\n",
    "done = True \n",
    "# Loop through 100000 steps (each frame in the game)\n",
    "for step in range(100000):\n",
    "    if done:\n",
    "        env.reset()\n",
    "    state, reward, done, info = env.step(env.action_space.sample())\n",
    "    # Show the game\n",
    "    env.render()\n",
    "# close the environment\n",
    "env.close()\n"
   ]
  },
  {
   "cell_type": "code",
   "execution_count": 15,
   "id": "ff07c947",
   "metadata": {},
   "outputs": [],
   "source": [
    "state = env.reset() # state is a frame in the game"
   ]
  },
  {
   "cell_type": "code",
   "execution_count": null,
   "id": "2545c4e3",
   "metadata": {},
   "outputs": [],
   "source": []
  },
  {
   "cell_type": "markdown",
   "id": "af66094e",
   "metadata": {},
   "source": [
    "# Step 2"
   ]
  }
 ],
 "metadata": {
  "kernelspec": {
   "display_name": "Python 3 (ipykernel)",
   "language": "python",
   "name": "python3"
  },
  "language_info": {
   "codemirror_mode": {
    "name": "ipython",
    "version": 3
   },
   "file_extension": ".py",
   "mimetype": "text/x-python",
   "name": "python",
   "nbconvert_exporter": "python",
   "pygments_lexer": "ipython3",
   "version": "3.9.12"
  },
  "varInspector": {
   "cols": {
    "lenName": 16,
    "lenType": 16,
    "lenVar": 40
   },
   "kernels_config": {
    "python": {
     "delete_cmd_postfix": "",
     "delete_cmd_prefix": "del ",
     "library": "var_list.py",
     "varRefreshCmd": "print(var_dic_list())"
    },
    "r": {
     "delete_cmd_postfix": ") ",
     "delete_cmd_prefix": "rm(",
     "library": "var_list.r",
     "varRefreshCmd": "cat(var_dic_list()) "
    }
   },
   "types_to_exclude": [
    "module",
    "function",
    "builtin_function_or_method",
    "instance",
    "_Feature"
   ],
   "window_display": false
  }
 },
 "nbformat": 4,
 "nbformat_minor": 5
}
