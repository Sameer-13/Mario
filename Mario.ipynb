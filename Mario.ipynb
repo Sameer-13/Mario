{
 "cells": [
  {
   "cell_type": "markdown",
   "id": "ba92084f",
   "metadata": {},
   "source": [
    "# Mario"
   ]
  },
  {
   "cell_type": "markdown",
   "id": "f2fa3e04",
   "metadata": {},
   "source": [
    "# Setup Mario Environment"
   ]
  },
  {
   "cell_type": "code",
   "execution_count": 33,
   "id": "b7458c55",
   "metadata": {
    "ExecuteTime": {
     "end_time": "2023-08-02T15:19:09.223935Z",
     "start_time": "2023-08-02T15:19:08.848898Z"
    }
   },
   "outputs": [],
   "source": [
    "# Import the joypad wrappers\n",
    "from nes_py.wrappers import JoypadSpace\n",
    "# Import the game\n",
    "import gym_super_mario_bros\n",
    "# Import the simplified controls\n",
    "from gym_super_mario_bros.actions import SIMPLE_MOVEMENT"
   ]
  },
  {
   "cell_type": "code",
   "execution_count": 34,
   "id": "4a1f787e",
   "metadata": {},
   "outputs": [
    {
     "data": {
      "text/plain": [
       "[['NOOP'],\n",
       " ['right'],\n",
       " ['right', 'A'],\n",
       " ['right', 'B'],\n",
       " ['right', 'A', 'B'],\n",
       " ['A'],\n",
       " ['left']]"
      ]
     },
     "execution_count": 34,
     "metadata": {},
     "output_type": "execute_result"
    }
   ],
   "source": [
    "# Simplfy the movement of Mario using SIMPLE_Movement\n",
    "SIMPLE_MOVEMENT"
   ]
  },
  {
   "cell_type": "code",
   "execution_count": 35,
   "id": "ca5ad270",
   "metadata": {},
   "outputs": [],
   "source": [
    "# Setup the environment\n",
    "env = gym_super_mario_bros.make('SuperMarioBros-v0')\n",
    "env = JoypadSpace(env, SIMPLE_MOVEMENT) # Limit the action-space from 256 to the 7 basic actions by wrapping the environment in a JoypadSpace wrapper"
   ]
  },
  {
   "cell_type": "code",
   "execution_count": 36,
   "id": "1c6a389f",
   "metadata": {},
   "outputs": [
    {
     "data": {
      "text/plain": [
       "(240, 256, 3)"
      ]
     },
     "execution_count": 36,
     "metadata": {},
     "output_type": "execute_result"
    }
   ],
   "source": [
    "# To see what the environment looks like\n",
    "env.observation_space.shape  # 240 pixels by 256 pixels in 3 colors channels, which represents the frame of the game"
   ]
  },
  {
   "cell_type": "code",
   "execution_count": 37,
   "id": "0f64e01a",
   "metadata": {},
   "outputs": [],
   "source": [
    "# Randomly test the environment\n",
    "done = True \n",
    "# Loop through 100000 steps (each frame in the game)\n",
    "for step in range(100):\n",
    "    if done:\n",
    "        env.reset()\n",
    "    state, reward, done, info = env.step(env.action_space.sample())\n",
    "    # Show the game\n",
    "    env.render()\n",
    "# close the environment\n",
    "env.close()\n"
   ]
  },
  {
   "cell_type": "markdown",
   "id": "af66094e",
   "metadata": {},
   "source": [
    "# Preprocessing Environment"
   ]
  },
  {
   "cell_type": "code",
   "execution_count": 38,
   "id": "b79751b7",
   "metadata": {},
   "outputs": [],
   "source": [
    "# Import Frame Stacker Wrapper and GrayScaling Wrapper\n",
    "from gym.wrappers import GrayScaleObservation\n",
    "# Import Vectorization Wrappers\n",
    "from stable_baselines3.common.vec_env import VecFrameStack, SubprocVecEnv, DummyVecEnv\n",
    "# Import Matplotlib to show the impact of frame stacking\n",
    "from matplotlib import pyplot as plt"
   ]
  },
  {
   "cell_type": "code",
   "execution_count": 39,
   "id": "bc0d562b",
   "metadata": {},
   "outputs": [],
   "source": [
    "# Create the base environment\n",
    "env = gym_super_mario_bros.make('SuperMarioBros-v0')\n",
    "# Simplify the controls\n",
    "env = JoypadSpace(env, SIMPLE_MOVEMENT) # Limit the action-space from 256 to the 7 basic actions by wrapping the environment in a JoypadSpace wrapper"
   ]
  },
  {
   "cell_type": "code",
   "execution_count": 40,
   "id": "00e82004",
   "metadata": {},
   "outputs": [],
   "source": [
    "\n",
    "# Gray-scale and down-sample in order to reduce the computation time for the Reinforcement Learning model\n",
    "env = GrayScaleObservation(env, keep_dim=True) # Color channels will become 1"
   ]
  },
  {
   "cell_type": "code",
   "execution_count": 41,
   "id": "77044d00",
   "metadata": {},
   "outputs": [
    {
     "data": {
      "text/plain": [
       "<matplotlib.image.AxesImage at 0x2ba8d09de50>"
      ]
     },
     "execution_count": 41,
     "metadata": {},
     "output_type": "execute_result"
    },
    {
     "data": {
      "image/png": "[encoded data removed]",
      "text/plain": [
       "<Figure size 1080x720 with 1 Axes>"
      ]
     },
     "metadata": {
      "needs_background": "light"
     },
     "output_type": "display_data"
    }
   ],
   "source": [
    "state = env.reset()\n",
    "\n",
    "plt.figure(figsize=(15,10))\n",
    "plt.imshow(state[0])"
   ]
  },
  {
   "cell_type": "code",
   "execution_count": 42,
   "id": "2bb7d6ca",
   "metadata": {},
   "outputs": [
    {
     "data": {
      "text/plain": [
       "(240, 256, 1)"
      ]
     },
     "execution_count": 42,
     "metadata": {},
     "output_type": "execute_result"
    }
   ],
   "source": [
    "state = env.reset()\n",
    "state.shape"
   ]
  },
  {
   "cell_type": "markdown",
   "id": "017f82cb",
   "metadata": {},
   "source": [
    "So we jump from 240*256*3 = 184320 bits to 240*256*1 = 61440 bits!"
   ]
  },
  {
   "cell_type": "code",
   "execution_count": 43,
   "id": "17f75e0a",
   "metadata": {},
   "outputs": [],
   "source": [
    "# warp inside the Dummy Enivornment\n",
    "\n",
    "env = DummyVecEnv([lambda: env])\n"
   ]
  },
  {
   "cell_type": "code",
   "execution_count": 44,
   "id": "d0e8899f",
   "metadata": {},
   "outputs": [],
   "source": [
    "\n",
    "# Stack frames this will give the agent some kind of memory\n",
    "env = VecFrameStack(env, n_stack=4, channels_order= 'last') # Stack 4 consecutive frames together to give the agent a sense of motion"
   ]
  },
  {
   "cell_type": "code",
   "execution_count": 45,
   "id": "5a1eabc3",
   "metadata": {},
   "outputs": [],
   "source": [
    "state = env.reset()"
   ]
  },
  {
   "cell_type": "code",
   "execution_count": 46,
   "id": "b7b0d174",
   "metadata": {},
   "outputs": [],
   "source": [
    "state, reward, done, info = env.step([env.action_space.sample()])"
   ]
  },
  {
   "cell_type": "code",
   "execution_count": 47,
   "id": "3886cf2b",
   "metadata": {},
   "outputs": [
    {
     "data": {
      "text/plain": [
       "<matplotlib.image.AxesImage at 0x2bab2c343d0>"
      ]
     },
     "execution_count": 47,
     "metadata": {},
     "output_type": "execute_result"
    },
    {
     "data": {
      "image/png": "[encoded data removed]",
      "text/plain": [
       "<Figure size 432x288 with 1 Axes>"
      ]
     },
     "metadata": {
      "needs_background": "light"
     },
     "output_type": "display_data"
    }
   ],
   "source": [
    "plt.imshow(state[0])"
   ]
  },
  {
   "cell_type": "code",
   "execution_count": 48,
   "id": "62261cfb",
   "metadata": {},
   "outputs": [
    {
     "data": {
      "image/png": "[encoded data removed]",
      "text/plain": [
       "<Figure size 1080x720 with 4 Axes>"
      ]
     },
     "metadata": {
      "needs_background": "light"
     },
     "output_type": "display_data"
    }
   ],
   "source": [
    "# Note run state, reward, done, info = env.step([env.action_space.sample()])\n",
    "# Four times to get the visulaization of four steps in the environment\n",
    "plt.figure(figsize=(15,10))\n",
    "for idx in  range(state.shape[3]):\n",
    "    plt.subplot(1, 4, idx+1)\n",
    "    plt.imshow(state[0][:, :, idx])\n",
    "plt.show()"
   ]
  },
  {
   "cell_type": "markdown",
   "id": "42695140",
   "metadata": {},
   "source": [
    "## Training The Model"
   ]
  },
  {
   "cell_type": "code",
   "execution_count": 49,
   "id": "eb182dac",
   "metadata": {},
   "outputs": [],
   "source": [
    "# Import os for file path management\n",
    "import os\n",
    "# Import PPO Reinforcement algorithm\n",
    "from stable_baselines3 import PPO\n",
    "# Import Base Callback for saving models\n",
    "from stable_baselines3.common.callbacks import BaseCallback"
   ]
  },
  {
   "cell_type": "code",
   "execution_count": 50,
   "id": "c33e99f8",
   "metadata": {},
   "outputs": [],
   "source": [
    "# Setup Directory for saving tensorboard logs\n",
    "LOG_DIR = './logs/'"
   ]
  },
  {
   "cell_type": "code",
   "execution_count": 53,
   "id": "224b2b4e",
   "metadata": {},
   "outputs": [
    {
     "name": "stdout",
     "output_type": "stream",
     "text": [
      "Using cpu device\n",
      "Wrapping the env in a VecTransposeImage.\n"
     ]
    }
   ],
   "source": [
    "# Setup the PPO Reinforcement Learning model\n",
    "model = PPO('CnnPolicy', env, verbose=1, tensorboard_log=LOG_DIR, device=\"cuda\", learning_rate=0.000001, n_steps=512) "
   ]
  },
  {
   "cell_type": "code",
   "execution_count": 54,
   "id": "2f7540e2",
   "metadata": {},
   "outputs": [
    {
     "name": "stdout",
     "output_type": "stream",
     "text": [
      "Logging to ./logs/PPO_2\n"
     ]
    },
    {
     "name": "stderr",
     "output_type": "stream",
     "text": [
      "c:\\Users\\smyra\\anaconda3\\lib\\site-packages\\gym_super_mario_bros\\smb_env.py:148: RuntimeWarning: overflow encountered in ubyte_scalars\n",
      "  return (self.ram[0x86] - self.ram[0x071c]) % 256\n"
     ]
    },
    {
     "name": "stdout",
     "output_type": "stream",
     "text": [
      "----------------------------\n",
      "| time/              |     |\n",
      "|    fps             | 56  |\n",
      "|    iterations      | 1   |\n",
      "|    time_elapsed    | 9   |\n",
      "|    total_timesteps | 512 |\n",
      "----------------------------\n",
      "-------------------------------------------\n",
      "| time/                   |               |\n",
      "|    fps                  | 7             |\n",
      "|    iterations           | 2             |\n",
      "|    time_elapsed         | 142           |\n",
      "|    total_timesteps      | 1024          |\n",
      "| train/                  |               |\n",
      "|    approx_kl            | 5.1593408e-05 |\n",
      "|    clip_fraction        | 0             |\n",
      "|    clip_range           | 0.2           |\n",
      "|    entropy_loss         | -1.95         |\n",
      "|    explained_variance   | -0.00682      |\n",
      "|    learning_rate        | 1e-06         |\n",
      "|    loss                 | 191           |\n",
      "|    n_updates            | 10            |\n",
      "|    policy_gradient_loss | -5.9e-05      |\n",
      "|    value_loss           | 510           |\n",
      "-------------------------------------------\n",
      "-------------------------------------------\n",
      "| time/                   |               |\n",
      "|    fps                  | 5             |\n",
      "|    iterations           | 3             |\n",
      "|    time_elapsed         | 257           |\n",
      "|    total_timesteps      | 1536          |\n",
      "| train/                  |               |\n",
      "|    approx_kl            | 4.5983004e-05 |\n",
      "|    clip_fraction        | 0             |\n",
      "|    clip_range           | 0.2           |\n",
      "|    entropy_loss         | -1.95         |\n",
      "|    explained_variance   | -0.0577       |\n",
      "|    learning_rate        | 1e-06         |\n",
      "|    loss                 | 0.148         |\n",
      "|    n_updates            | 20            |\n",
      "|    policy_gradient_loss | -0.000262     |\n",
      "|    value_loss           | 2.33          |\n",
      "-------------------------------------------\n",
      "-------------------------------------------\n",
      "| time/                   |               |\n",
      "|    fps                  | 5             |\n",
      "|    iterations           | 4             |\n",
      "|    time_elapsed         | 380           |\n",
      "|    total_timesteps      | 2048          |\n",
      "| train/                  |               |\n",
      "|    approx_kl            | 2.5989022e-05 |\n",
      "|    clip_fraction        | 0             |\n",
      "|    clip_range           | 0.2           |\n",
      "|    entropy_loss         | -1.95         |\n",
      "|    explained_variance   | -0.0331       |\n",
      "|    learning_rate        | 1e-06         |\n",
      "|    loss                 | 0.295         |\n",
      "|    n_updates            | 30            |\n",
      "|    policy_gradient_loss | -0.000236     |\n",
      "|    value_loss           | 1.33          |\n",
      "-------------------------------------------\n",
      "-------------------------------------------\n",
      "| time/                   |               |\n",
      "|    fps                  | 5             |\n",
      "|    iterations           | 5             |\n",
      "|    time_elapsed         | 510           |\n",
      "|    total_timesteps      | 2560          |\n",
      "| train/                  |               |\n",
      "|    approx_kl            | 2.4924055e-05 |\n",
      "|    clip_fraction        | 0             |\n",
      "|    clip_range           | 0.2           |\n",
      "|    entropy_loss         | -1.95         |\n",
      "|    explained_variance   | -0.00291      |\n",
      "|    learning_rate        | 1e-06         |\n",
      "|    loss                 | 0.153         |\n",
      "|    n_updates            | 40            |\n",
      "|    policy_gradient_loss | -0.00025      |\n",
      "|    value_loss           | 0.707         |\n",
      "-------------------------------------------\n",
      "--------------------------------------------\n",
      "| time/                   |                |\n",
      "|    fps                  | 4              |\n",
      "|    iterations           | 6              |\n",
      "|    time_elapsed         | 636            |\n",
      "|    total_timesteps      | 3072           |\n",
      "| train/                  |                |\n",
      "|    approx_kl            | 1.07852975e-05 |\n",
      "|    clip_fraction        | 0              |\n",
      "|    clip_range           | 0.2            |\n",
      "|    entropy_loss         | -1.95          |\n",
      "|    explained_variance   | 0.00272        |\n",
      "|    learning_rate        | 1e-06          |\n",
      "|    loss                 | 0.0724         |\n",
      "|    n_updates            | 50             |\n",
      "|    policy_gradient_loss | -0.000116      |\n",
      "|    value_loss           | 0.469          |\n",
      "--------------------------------------------\n",
      "-------------------------------------------\n",
      "| time/                   |               |\n",
      "|    fps                  | 4             |\n",
      "|    iterations           | 7             |\n",
      "|    time_elapsed         | 776           |\n",
      "|    total_timesteps      | 3584          |\n",
      "| train/                  |               |\n",
      "|    approx_kl            | 1.1015218e-05 |\n",
      "|    clip_fraction        | 0             |\n",
      "|    clip_range           | 0.2           |\n",
      "|    entropy_loss         | -1.95         |\n",
      "|    explained_variance   | -0.00367      |\n",
      "|    learning_rate        | 1e-06         |\n",
      "|    loss                 | 0.0742        |\n",
      "|    n_updates            | 60            |\n",
      "|    policy_gradient_loss | -6.33e-05     |\n",
      "|    value_loss           | 0.384         |\n",
      "-------------------------------------------\n",
      "------------------------------------------\n",
      "| time/                   |              |\n",
      "|    fps                  | 4            |\n",
      "|    iterations           | 8            |\n",
      "|    time_elapsed         | 929          |\n",
      "|    total_timesteps      | 4096         |\n",
      "| train/                  |              |\n",
      "|    approx_kl            | 4.796195e-06 |\n",
      "|    clip_fraction        | 0            |\n",
      "|    clip_range           | 0.2          |\n",
      "|    entropy_loss         | -1.95        |\n",
      "|    explained_variance   | -0.00131     |\n",
      "|    learning_rate        | 1e-06        |\n",
      "|    loss                 | 0.0815       |\n",
      "|    n_updates            | 70           |\n",
      "|    policy_gradient_loss | -3.34e-06    |\n",
      "|    value_loss           | 0.34         |\n",
      "------------------------------------------\n"
     ]
    },
    {
     "ename": "KeyboardInterrupt",
     "evalue": "",
     "output_type": "error",
     "traceback": [
      "\u001b[1;31m---------------------------------------------------------------------------\u001b[0m",
      "\u001b[1;31mKeyboardInterrupt\u001b[0m                         Traceback (most recent call last)",
      "\u001b[1;32mc:\\Users\\smyra\\jupyterNotebook Development\\ML&DL projects\\Mario\\Mario.ipynb Cell 25\u001b[0m in \u001b[0;36m<cell line: 2>\u001b[1;34m()\u001b[0m\n\u001b[0;32m      <a href='vscode-notebook-cell:/c%3A/Users/smyra/jupyterNotebook%20Development/ML%26DL%20projects/Mario/Mario.ipynb#X43sZmlsZQ%3D%3D?line=0'>1</a>\u001b[0m \u001b[39m# Train the model\u001b[39;00m\n\u001b[1;32m----> <a href='vscode-notebook-cell:/c%3A/Users/smyra/jupyterNotebook%20Development/ML%26DL%20projects/Mario/Mario.ipynb#X43sZmlsZQ%3D%3D?line=1'>2</a>\u001b[0m model\u001b[39m.\u001b[39;49mlearn(total_timesteps\u001b[39m=\u001b[39;49m\u001b[39m1000000\u001b[39;49m)\n",
      "File \u001b[1;32mc:\\Users\\smyra\\anaconda3\\lib\\site-packages\\stable_baselines3\\ppo\\ppo.py:304\u001b[0m, in \u001b[0;36mPPO.learn\u001b[1;34m(self, total_timesteps, callback, log_interval, eval_env, eval_freq, n_eval_episodes, tb_log_name, eval_log_path, reset_num_timesteps)\u001b[0m\n\u001b[0;32m    291\u001b[0m \u001b[39mdef\u001b[39;00m \u001b[39mlearn\u001b[39m(\n\u001b[0;32m    292\u001b[0m     \u001b[39mself\u001b[39m,\n\u001b[0;32m    293\u001b[0m     total_timesteps: \u001b[39mint\u001b[39m,\n\u001b[1;32m   (...)\u001b[0m\n\u001b[0;32m    301\u001b[0m     reset_num_timesteps: \u001b[39mbool\u001b[39m \u001b[39m=\u001b[39m \u001b[39mTrue\u001b[39;00m,\n\u001b[0;32m    302\u001b[0m ) \u001b[39m-\u001b[39m\u001b[39m>\u001b[39m \u001b[39m\"\u001b[39m\u001b[39mPPO\u001b[39m\u001b[39m\"\u001b[39m:\n\u001b[1;32m--> 304\u001b[0m     \u001b[39mreturn\u001b[39;00m \u001b[39msuper\u001b[39;49m(PPO, \u001b[39mself\u001b[39;49m)\u001b[39m.\u001b[39;49mlearn(\n\u001b[0;32m    305\u001b[0m         total_timesteps\u001b[39m=\u001b[39;49mtotal_timesteps,\n\u001b[0;32m    306\u001b[0m         callback\u001b[39m=\u001b[39;49mcallback,\n\u001b[0;32m    307\u001b[0m         log_interval\u001b[39m=\u001b[39;49mlog_interval,\n\u001b[0;32m    308\u001b[0m         eval_env\u001b[39m=\u001b[39;49meval_env,\n\u001b[0;32m    309\u001b[0m         eval_freq\u001b[39m=\u001b[39;49meval_freq,\n\u001b[0;32m    310\u001b[0m         n_eval_episodes\u001b[39m=\u001b[39;49mn_eval_episodes,\n\u001b[0;32m    311\u001b[0m         tb_log_name\u001b[39m=\u001b[39;49mtb_log_name,\n\u001b[0;32m    312\u001b[0m         eval_log_path\u001b[39m=\u001b[39;49meval_log_path,\n\u001b[0;32m    313\u001b[0m         reset_num_timesteps\u001b[39m=\u001b[39;49mreset_num_timesteps,\n\u001b[0;32m    314\u001b[0m     )\n",
      "File \u001b[1;32mc:\\Users\\smyra\\anaconda3\\lib\\site-packages\\stable_baselines3\\common\\on_policy_algorithm.py:270\u001b[0m, in \u001b[0;36mOnPolicyAlgorithm.learn\u001b[1;34m(self, total_timesteps, callback, log_interval, eval_env, eval_freq, n_eval_episodes, tb_log_name, eval_log_path, reset_num_timesteps)\u001b[0m\n\u001b[0;32m    267\u001b[0m         \u001b[39mself\u001b[39m\u001b[39m.\u001b[39mlogger\u001b[39m.\u001b[39mrecord(\u001b[39m\"\u001b[39m\u001b[39mtime/total_timesteps\u001b[39m\u001b[39m\"\u001b[39m, \u001b[39mself\u001b[39m\u001b[39m.\u001b[39mnum_timesteps, exclude\u001b[39m=\u001b[39m\u001b[39m\"\u001b[39m\u001b[39mtensorboard\u001b[39m\u001b[39m\"\u001b[39m)\n\u001b[0;32m    268\u001b[0m         \u001b[39mself\u001b[39m\u001b[39m.\u001b[39mlogger\u001b[39m.\u001b[39mdump(step\u001b[39m=\u001b[39m\u001b[39mself\u001b[39m\u001b[39m.\u001b[39mnum_timesteps)\n\u001b[1;32m--> 270\u001b[0m     \u001b[39mself\u001b[39;49m\u001b[39m.\u001b[39;49mtrain()\n\u001b[0;32m    272\u001b[0m callback\u001b[39m.\u001b[39mon_training_end()\n\u001b[0;32m    274\u001b[0m \u001b[39mreturn\u001b[39;00m \u001b[39mself\u001b[39m\n",
      "File \u001b[1;32mc:\\Users\\smyra\\anaconda3\\lib\\site-packages\\stable_baselines3\\ppo\\ppo.py:203\u001b[0m, in \u001b[0;36mPPO.train\u001b[1;34m(self)\u001b[0m\n\u001b[0;32m    200\u001b[0m \u001b[39mif\u001b[39;00m \u001b[39mself\u001b[39m\u001b[39m.\u001b[39muse_sde:\n\u001b[0;32m    201\u001b[0m     \u001b[39mself\u001b[39m\u001b[39m.\u001b[39mpolicy\u001b[39m.\u001b[39mreset_noise(\u001b[39mself\u001b[39m\u001b[39m.\u001b[39mbatch_size)\n\u001b[1;32m--> 203\u001b[0m values, log_prob, entropy \u001b[39m=\u001b[39m \u001b[39mself\u001b[39;49m\u001b[39m.\u001b[39;49mpolicy\u001b[39m.\u001b[39;49mevaluate_actions(rollout_data\u001b[39m.\u001b[39;49mobservations, actions)\n\u001b[0;32m    204\u001b[0m values \u001b[39m=\u001b[39m values\u001b[39m.\u001b[39mflatten()\n\u001b[0;32m    205\u001b[0m \u001b[39m# Normalize advantage\u001b[39;00m\n",
      "File \u001b[1;32mc:\\Users\\smyra\\anaconda3\\lib\\site-packages\\stable_baselines3\\common\\policies.py:643\u001b[0m, in \u001b[0;36mActorCriticPolicy.evaluate_actions\u001b[1;34m(self, obs, actions)\u001b[0m\n\u001b[0;32m    633\u001b[0m \u001b[39m\u001b[39m\u001b[39m\"\"\"\u001b[39;00m\n\u001b[0;32m    634\u001b[0m \u001b[39mEvaluate actions according to the current policy,\u001b[39;00m\n\u001b[0;32m    635\u001b[0m \u001b[39mgiven the observations.\u001b[39;00m\n\u001b[1;32m   (...)\u001b[0m\n\u001b[0;32m    640\u001b[0m \u001b[39m    and entropy of the action distribution.\u001b[39;00m\n\u001b[0;32m    641\u001b[0m \u001b[39m\"\"\"\u001b[39;00m\n\u001b[0;32m    642\u001b[0m \u001b[39m# Preprocess the observation if needed\u001b[39;00m\n\u001b[1;32m--> 643\u001b[0m features \u001b[39m=\u001b[39m \u001b[39mself\u001b[39;49m\u001b[39m.\u001b[39;49mextract_features(obs)\n\u001b[0;32m    644\u001b[0m latent_pi, latent_vf \u001b[39m=\u001b[39m \u001b[39mself\u001b[39m\u001b[39m.\u001b[39mmlp_extractor(features)\n\u001b[0;32m    645\u001b[0m distribution \u001b[39m=\u001b[39m \u001b[39mself\u001b[39m\u001b[39m.\u001b[39m_get_action_dist_from_latent(latent_pi)\n",
      "File \u001b[1;32mc:\\Users\\smyra\\anaconda3\\lib\\site-packages\\stable_baselines3\\common\\policies.py:129\u001b[0m, in \u001b[0;36mBaseModel.extract_features\u001b[1;34m(self, obs)\u001b[0m\n\u001b[0;32m    127\u001b[0m \u001b[39massert\u001b[39;00m \u001b[39mself\u001b[39m\u001b[39m.\u001b[39mfeatures_extractor \u001b[39mis\u001b[39;00m \u001b[39mnot\u001b[39;00m \u001b[39mNone\u001b[39;00m, \u001b[39m\"\u001b[39m\u001b[39mNo features extractor was set\u001b[39m\u001b[39m\"\u001b[39m\n\u001b[0;32m    128\u001b[0m preprocessed_obs \u001b[39m=\u001b[39m preprocess_obs(obs, \u001b[39mself\u001b[39m\u001b[39m.\u001b[39mobservation_space, normalize_images\u001b[39m=\u001b[39m\u001b[39mself\u001b[39m\u001b[39m.\u001b[39mnormalize_images)\n\u001b[1;32m--> 129\u001b[0m \u001b[39mreturn\u001b[39;00m \u001b[39mself\u001b[39;49m\u001b[39m.\u001b[39;49mfeatures_extractor(preprocessed_obs)\n",
      "File \u001b[1;32mc:\\Users\\smyra\\anaconda3\\lib\\site-packages\\torch\\nn\\modules\\module.py:1501\u001b[0m, in \u001b[0;36m_call_impl\u001b[1;34m(self, *args, **kwargs)\u001b[0m\n\u001b[0;32m   1499\u001b[0m \u001b[39mdef\u001b[39;00m \u001b[39mparameters\u001b[39m(\u001b[39mself\u001b[39m, recurse: \u001b[39mbool\u001b[39m \u001b[39m=\u001b[39m \u001b[39mTrue\u001b[39;00m) \u001b[39m-\u001b[39m\u001b[39m>\u001b[39m Iterator[Parameter]:\n\u001b[0;32m   1500\u001b[0m \u001b[39m    \u001b[39m\u001b[39mr\u001b[39m\u001b[39m\"\"\"Returns an iterator over module parameters.\u001b[39;00m\n\u001b[1;32m-> 1501\u001b[0m \n\u001b[0;32m   1502\u001b[0m \u001b[39m    This is typically passed to an optimizer.\u001b[39;00m\n\u001b[0;32m   1503\u001b[0m \n\u001b[0;32m   1504\u001b[0m \u001b[39m    Args:\u001b[39;00m\n\u001b[0;32m   1505\u001b[0m \u001b[39m        recurse (bool): if True, then yields parameters of this module\u001b[39;00m\n\u001b[0;32m   1506\u001b[0m \u001b[39m            and all submodules. Otherwise, yields only parameters that\u001b[39;00m\n\u001b[0;32m   1507\u001b[0m \u001b[39m            are direct members of this module.\u001b[39;00m\n\u001b[0;32m   1508\u001b[0m \n\u001b[0;32m   1509\u001b[0m \u001b[39m    Yields:\u001b[39;00m\n\u001b[0;32m   1510\u001b[0m \u001b[39m        Parameter: module parameter\u001b[39;00m\n\u001b[0;32m   1511\u001b[0m \n\u001b[0;32m   1512\u001b[0m \u001b[39m    Example::\u001b[39;00m\n\u001b[0;32m   1513\u001b[0m \n\u001b[0;32m   1514\u001b[0m \u001b[39m        >>> for param in model.parameters():\u001b[39;00m\n\u001b[0;32m   1515\u001b[0m \u001b[39m        >>>     print(type(param), param.size())\u001b[39;00m\n\u001b[0;32m   1516\u001b[0m \u001b[39m        <class 'torch.Tensor'> (20L,)\u001b[39;00m\n\u001b[0;32m   1517\u001b[0m \u001b[39m        <class 'torch.Tensor'> (20L, 1L, 5L, 5L)\u001b[39;00m\n\u001b[0;32m   1518\u001b[0m \n\u001b[0;32m   1519\u001b[0m \u001b[39m    \"\"\"\u001b[39;00m\n\u001b[0;32m   1520\u001b[0m     \u001b[39mfor\u001b[39;00m name, param \u001b[39min\u001b[39;00m \u001b[39mself\u001b[39m\u001b[39m.\u001b[39mnamed_parameters(recurse\u001b[39m=\u001b[39mrecurse):\n\u001b[0;32m   1521\u001b[0m         \u001b[39myield\u001b[39;00m param\n",
      "File \u001b[1;32mc:\\Users\\smyra\\anaconda3\\lib\\site-packages\\stable_baselines3\\common\\torch_layers.py:93\u001b[0m, in \u001b[0;36mNatureCNN.forward\u001b[1;34m(self, observations)\u001b[0m\n\u001b[0;32m     92\u001b[0m \u001b[39mdef\u001b[39;00m \u001b[39mforward\u001b[39m(\u001b[39mself\u001b[39m, observations: th\u001b[39m.\u001b[39mTensor) \u001b[39m-\u001b[39m\u001b[39m>\u001b[39m th\u001b[39m.\u001b[39mTensor:\n\u001b[1;32m---> 93\u001b[0m     \u001b[39mreturn\u001b[39;00m \u001b[39mself\u001b[39;49m\u001b[39m.\u001b[39;49mlinear(\u001b[39mself\u001b[39;49m\u001b[39m.\u001b[39;49mcnn(observations))\n",
      "File \u001b[1;32mc:\\Users\\smyra\\anaconda3\\lib\\site-packages\\torch\\nn\\modules\\module.py:1501\u001b[0m, in \u001b[0;36m_call_impl\u001b[1;34m(self, *args, **kwargs)\u001b[0m\n\u001b[0;32m   1499\u001b[0m \u001b[39mdef\u001b[39;00m \u001b[39mparameters\u001b[39m(\u001b[39mself\u001b[39m, recurse: \u001b[39mbool\u001b[39m \u001b[39m=\u001b[39m \u001b[39mTrue\u001b[39;00m) \u001b[39m-\u001b[39m\u001b[39m>\u001b[39m Iterator[Parameter]:\n\u001b[0;32m   1500\u001b[0m \u001b[39m    \u001b[39m\u001b[39mr\u001b[39m\u001b[39m\"\"\"Returns an iterator over module parameters.\u001b[39;00m\n\u001b[1;32m-> 1501\u001b[0m \n\u001b[0;32m   1502\u001b[0m \u001b[39m    This is typically passed to an optimizer.\u001b[39;00m\n\u001b[0;32m   1503\u001b[0m \n\u001b[0;32m   1504\u001b[0m \u001b[39m    Args:\u001b[39;00m\n\u001b[0;32m   1505\u001b[0m \u001b[39m        recurse (bool): if True, then yields parameters of this module\u001b[39;00m\n\u001b[0;32m   1506\u001b[0m \u001b[39m            and all submodules. Otherwise, yields only parameters that\u001b[39;00m\n\u001b[0;32m   1507\u001b[0m \u001b[39m            are direct members of this module.\u001b[39;00m\n\u001b[0;32m   1508\u001b[0m \n\u001b[0;32m   1509\u001b[0m \u001b[39m    Yields:\u001b[39;00m\n\u001b[0;32m   1510\u001b[0m \u001b[39m        Parameter: module parameter\u001b[39;00m\n\u001b[0;32m   1511\u001b[0m \n\u001b[0;32m   1512\u001b[0m \u001b[39m    Example::\u001b[39;00m\n\u001b[0;32m   1513\u001b[0m \n\u001b[0;32m   1514\u001b[0m \u001b[39m        >>> for param in model.parameters():\u001b[39;00m\n\u001b[0;32m   1515\u001b[0m \u001b[39m        >>>     print(type(param), param.size())\u001b[39;00m\n\u001b[0;32m   1516\u001b[0m \u001b[39m        <class 'torch.Tensor'> (20L,)\u001b[39;00m\n\u001b[0;32m   1517\u001b[0m \u001b[39m        <class 'torch.Tensor'> (20L, 1L, 5L, 5L)\u001b[39;00m\n\u001b[0;32m   1518\u001b[0m \n\u001b[0;32m   1519\u001b[0m \u001b[39m    \"\"\"\u001b[39;00m\n\u001b[0;32m   1520\u001b[0m     \u001b[39mfor\u001b[39;00m name, param \u001b[39min\u001b[39;00m \u001b[39mself\u001b[39m\u001b[39m.\u001b[39mnamed_parameters(recurse\u001b[39m=\u001b[39mrecurse):\n\u001b[0;32m   1521\u001b[0m         \u001b[39myield\u001b[39;00m param\n",
      "File \u001b[1;32mc:\\Users\\smyra\\anaconda3\\lib\\site-packages\\torch\\nn\\modules\\container.py:217\u001b[0m, in \u001b[0;36mforward\u001b[1;34m(self, input)\u001b[0m\n\u001b[0;32m    214\u001b[0m \u001b[39mdef\u001b[39;00m \u001b[39m__iadd__\u001b[39m(\u001b[39mself\u001b[39m, modules: Iterable[Module]) \u001b[39m-\u001b[39m\u001b[39m>\u001b[39m \u001b[39m'\u001b[39m\u001b[39mModuleList\u001b[39m\u001b[39m'\u001b[39m:\n\u001b[0;32m    215\u001b[0m     \u001b[39mreturn\u001b[39;00m \u001b[39mself\u001b[39m\u001b[39m.\u001b[39mextend(modules)\n\u001b[1;32m--> 217\u001b[0m \u001b[39m@_copy_to_script_wrapper\u001b[39m\n\u001b[0;32m    218\u001b[0m \u001b[39mdef\u001b[39;00m \u001b[39m__dir__\u001b[39m(\u001b[39mself\u001b[39m):\n\u001b[0;32m    219\u001b[0m     keys \u001b[39m=\u001b[39m \u001b[39msuper\u001b[39m(ModuleList, \u001b[39mself\u001b[39m)\u001b[39m.\u001b[39m\u001b[39m__dir__\u001b[39m()\n\u001b[0;32m    220\u001b[0m     keys \u001b[39m=\u001b[39m [key \u001b[39mfor\u001b[39;00m key \u001b[39min\u001b[39;00m keys \u001b[39mif\u001b[39;00m \u001b[39mnot\u001b[39;00m key\u001b[39m.\u001b[39misdigit()]\n",
      "File \u001b[1;32mc:\\Users\\smyra\\anaconda3\\lib\\site-packages\\torch\\nn\\modules\\module.py:1501\u001b[0m, in \u001b[0;36m_call_impl\u001b[1;34m(self, *args, **kwargs)\u001b[0m\n\u001b[0;32m   1499\u001b[0m \u001b[39mdef\u001b[39;00m \u001b[39mparameters\u001b[39m(\u001b[39mself\u001b[39m, recurse: \u001b[39mbool\u001b[39m \u001b[39m=\u001b[39m \u001b[39mTrue\u001b[39;00m) \u001b[39m-\u001b[39m\u001b[39m>\u001b[39m Iterator[Parameter]:\n\u001b[0;32m   1500\u001b[0m \u001b[39m    \u001b[39m\u001b[39mr\u001b[39m\u001b[39m\"\"\"Returns an iterator over module parameters.\u001b[39;00m\n\u001b[1;32m-> 1501\u001b[0m \n\u001b[0;32m   1502\u001b[0m \u001b[39m    This is typically passed to an optimizer.\u001b[39;00m\n\u001b[0;32m   1503\u001b[0m \n\u001b[0;32m   1504\u001b[0m \u001b[39m    Args:\u001b[39;00m\n\u001b[0;32m   1505\u001b[0m \u001b[39m        recurse (bool): if True, then yields parameters of this module\u001b[39;00m\n\u001b[0;32m   1506\u001b[0m \u001b[39m            and all submodules. Otherwise, yields only parameters that\u001b[39;00m\n\u001b[0;32m   1507\u001b[0m \u001b[39m            are direct members of this module.\u001b[39;00m\n\u001b[0;32m   1508\u001b[0m \n\u001b[0;32m   1509\u001b[0m \u001b[39m    Yields:\u001b[39;00m\n\u001b[0;32m   1510\u001b[0m \u001b[39m        Parameter: module parameter\u001b[39;00m\n\u001b[0;32m   1511\u001b[0m \n\u001b[0;32m   1512\u001b[0m \u001b[39m    Example::\u001b[39;00m\n\u001b[0;32m   1513\u001b[0m \n\u001b[0;32m   1514\u001b[0m \u001b[39m        >>> for param in model.parameters():\u001b[39;00m\n\u001b[0;32m   1515\u001b[0m \u001b[39m        >>>     print(type(param), param.size())\u001b[39;00m\n\u001b[0;32m   1516\u001b[0m \u001b[39m        <class 'torch.Tensor'> (20L,)\u001b[39;00m\n\u001b[0;32m   1517\u001b[0m \u001b[39m        <class 'torch.Tensor'> (20L, 1L, 5L, 5L)\u001b[39;00m\n\u001b[0;32m   1518\u001b[0m \n\u001b[0;32m   1519\u001b[0m \u001b[39m    \"\"\"\u001b[39;00m\n\u001b[0;32m   1520\u001b[0m     \u001b[39mfor\u001b[39;00m name, param \u001b[39min\u001b[39;00m \u001b[39mself\u001b[39m\u001b[39m.\u001b[39mnamed_parameters(recurse\u001b[39m=\u001b[39mrecurse):\n\u001b[0;32m   1521\u001b[0m         \u001b[39myield\u001b[39;00m param\n",
      "File \u001b[1;32mc:\\Users\\smyra\\anaconda3\\lib\\site-packages\\torch\\nn\\modules\\linear.py:114\u001b[0m, in \u001b[0;36mforward\u001b[1;34m(self, input)\u001b[0m\n\u001b[0;32m    105\u001b[0m     def extra_repr(self) -> str:\n\u001b[0;32m    106\u001b[0m         return 'in_features={}, out_features={}, bias={}'.format(\n\u001b[0;32m    107\u001b[0m             self.in_features, self.out_features, self.bias is not None\n\u001b[0;32m    108\u001b[0m         )\n\u001b[0;32m    111\u001b[0m # This class exists solely to avoid triggering an obscure error when scripting\n\u001b[0;32m    112\u001b[0m # an improperly quantized attention layer. See this issue for details:\n\u001b[0;32m    113\u001b[0m # https://github.com/pytorch/pytorch/issues/58969\n\u001b[1;32m--> 114\u001b[0m # TODO: fail fast on quantization API usage error, then remove this class\n\u001b[0;32m    115\u001b[0m # and replace uses of it with plain Linear\n\u001b[0;32m    116\u001b[0m class NonDynamicallyQuantizableLinear(Linear):\n\u001b[0;32m    117\u001b[0m     def __init__(self, in_features: int, out_features: int, bias: bool = True,\n\u001b[0;32m    118\u001b[0m                  device=None, dtype=None) -> None:\n",
      "\u001b[1;31mKeyboardInterrupt\u001b[0m: "
     ]
    }
   ],
   "source": [
    "# Train the model\n",
    "model.learn(total_timesteps=1000000)"
   ]
  },
  {
   "cell_type": "code",
   "execution_count": null,
   "id": "e0fdbcf3",
   "metadata": {},
   "outputs": [],
   "source": [
    "#model.save('thisisatestmodel')"
   ]
  },
  {
   "cell_type": "markdown",
   "id": "4583316c",
   "metadata": {},
   "source": [
    "# Model Testing"
   ]
  },
  {
   "cell_type": "code",
   "execution_count": null,
   "id": "68860181",
   "metadata": {},
   "outputs": [],
   "source": [
    "# Load model\n",
    "#model = PPO.load('./train/best_model')"
   ]
  },
  {
   "cell_type": "code",
   "execution_count": null,
   "id": "80ee5175",
   "metadata": {},
   "outputs": [],
   "source": [
    "#state = env.reset()"
   ]
  },
  {
   "cell_type": "code",
   "execution_count": null,
   "id": "5fd3e56c",
   "metadata": {},
   "outputs": [],
   "source": [
    "# # Start the game \n",
    "# state = env.reset()\n",
    "# # Loop through the game\n",
    "# while True: \n",
    "#     action, _ = model.predict(state)\n",
    "#     state, reward, done, info = env.step(action)\n",
    "#     env.render()"
   ]
  },
  {
   "cell_type": "markdown",
   "id": "0b9f6164",
   "metadata": {},
   "source": [
    "# "
   ]
  }
 ],
 "metadata": {
  "kernelspec": {
   "display_name": "Python 3 (ipykernel)",
   "language": "python",
   "name": "python3"
  },
  "language_info": {
   "codemirror_mode": {
    "name": "ipython",
    "version": 3
   },
   "file_extension": ".py",
   "mimetype": "text/x-python",
   "name": "python",
   "nbconvert_exporter": "python",
   "pygments_lexer": "ipython3",
   "version": "3.9.12"
  },
  "varInspector": {
   "cols": {
    "lenName": 16,
    "lenType": 16,
    "lenVar": 40
   },
   "kernels_config": {
    "python": {
     "delete_cmd_postfix": "",
     "delete_cmd_prefix": "del ",
     "library": "var_list.py",
     "varRefreshCmd": "print(var_dic_list())"
    },
    "r": {
     "delete_cmd_postfix": ") ",
     "delete_cmd_prefix": "rm(",
     "library": "var_list.r",
     "varRefreshCmd": "cat(var_dic_list()) "
    }
   },
   "types_to_exclude": [
    "module",
    "function",
    "builtin_function_or_method",
    "instance",
    "_Feature"
   ],
   "window_display": false
  }
 },
 "nbformat": 4,
 "nbformat_minor": 5
}
