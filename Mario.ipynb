{
 "cells": [
  {
   "cell_type": "markdown",
   "id": "f2fa3e04",
   "metadata": {},
   "source": [
    "# Setup Mario Environment"
   ]
  },
  {
   "cell_type": "code",
   "execution_count": 1,
   "id": "b7458c55",
   "metadata": {
    "ExecuteTime": {
     "end_time": "2023-08-02T15:19:09.223935Z",
     "start_time": "2023-08-02T15:19:08.848898Z"
    }
   },
   "outputs": [],
   "source": [
    "# Import the joypad wrappers\n",
    "from nes_py.wrappers import JoypadSpace\n",
    "# Import the game\n",
    "import gym_super_mario_bros\n",
    "# Import the simplified controls\n",
    "from gym_super_mario_bros.actions import SIMPLE_MOVEMENT"
   ]
  },
  {
   "cell_type": "code",
   "execution_count": 8,
   "id": "4a1f787e",
   "metadata": {},
   "outputs": [
    {
     "data": {
      "text/plain": [
       "[['NOOP'],\n",
       " ['right'],\n",
       " ['right', 'A'],\n",
       " ['right', 'B'],\n",
       " ['right', 'A', 'B'],\n",
       " ['A'],\n",
       " ['left']]"
      ]
     },
     "execution_count": 8,
     "metadata": {},
     "output_type": "execute_result"
    }
   ],
   "source": [
    "# Simplfy the movement of Mario using SIMPLE_Movement\n",
    "SIMPLE_MOVEMENT"
   ]
  },
  {
   "cell_type": "code",
   "execution_count": 13,
   "id": "ca5ad270",
   "metadata": {},
   "outputs": [],
   "source": [
    "# Setup the environment\n",
    "env = gym_super_mario_bros.make('SuperMarioBros-v0')\n",
    "env = JoypadSpace(env, SIMPLE_MOVEMENT) # Limit the action-space from 256 to the 7 basic actions by wrapping the environment in a JoypadSpace wrapper"
   ]
  },
  {
   "cell_type": "code",
   "execution_count": 4,
   "id": "1c6a389f",
   "metadata": {},
   "outputs": [
    {
     "data": {
      "text/plain": [
       "(240, 256, 3)"
      ]
     },
     "execution_count": 4,
     "metadata": {},
     "output_type": "execute_result"
    }
   ],
   "source": [
    "# to see what the environment looks like\n",
    "env.observation_space.shape  # 240 pixels by 256 pixels in 3 colors channels, which represents the frame of the game"
   ]
  },
  {
   "cell_type": "code",
   "execution_count": null,
   "id": "0f64e01a",
   "metadata": {},
   "outputs": [],
   "source": [
    "# Randomly test the environment\n",
    "done = True \n",
    "# Loop through 100000 steps (each frame in the game)\n",
    "for step in range(100000):\n",
    "    if done:\n",
    "        env.reset()\n",
    "    state, reward, done, info = env.step(env.action_space.sample())\n",
    "    # Show the game\n",
    "    env.render()\n",
    "# close the environment\n",
    "env.close()\n"
   ]
  },
  {
   "cell_type": "code",
   "execution_count": 15,
   "id": "ff07c947",
   "metadata": {},
   "outputs": [],
   "source": [
    "state = env.reset() # state is a frame in the game"
   ]
  },
  {
   "cell_type": "markdown",
   "id": "af66094e",
   "metadata": {},
   "source": [
    "# Preprocessing Environment"
   ]
  },
  {
   "cell_type": "code",
   "execution_count": 44,
   "id": "b79751b7",
   "metadata": {},
   "outputs": [],
   "source": [
    "# Import Frame Stacker Wrapper and GrayScaling Wrapper\n",
    "from gym.wrappers import GrayScaleObservation\n",
    "# Import Vectorization Wrappers\n",
    "from stable_baselines3.common.vec_env import VecFrameStack, SubprocVecEnv, DummyVecEnv\n",
    "# Import Matplotlib to show the impact of frame stacking\n",
    "from matplotlib import pyplot as plt"
   ]
  },
  {
   "cell_type": "code",
   "execution_count": 36,
   "id": "bc0d562b",
   "metadata": {},
   "outputs": [],
   "source": [
    "# Create the base environment\n",
    "env = gym_super_mario_bros.make('SuperMarioBros-v0')\n",
    "# Simplify the controls\n",
    "env = JoypadSpace(env, SIMPLE_MOVEMENT) # Limit the action-space from 256 to the 7 basic actions by wrapping the environment in a JoypadSpace wrapper"
   ]
  },
  {
   "cell_type": "code",
   "execution_count": 37,
   "id": "00e82004",
   "metadata": {},
   "outputs": [],
   "source": [
    "\n",
    "# Gray-scale and down-sample in order to reduce the computation time for the Reinforcement Learning model\n",
    "env = GrayScaleObservation(env, keep_dim=True) # Color channels will become 1"
   ]
  },
  {
   "cell_type": "code",
   "execution_count": 48,
   "id": "9e432a55",
   "metadata": {},
   "outputs": [
    {
     "name": "stderr",
     "output_type": "stream",
     "text": [
      "c:\\Users\\smyra\\anaconda3\\lib\\site-packages\\stable_baselines3\\common\\vec_env\\patch_gym.py:49: UserWarning: You provided an OpenAI Gym environment. We strongly recommend transitioning to Gymnasium environments. Stable-Baselines3 is automatically wrapping your environments in a compatibility layer, which could potentially cause issues.\n",
      "  warnings.warn(\n"
     ]
    },
    {
     "ename": "AttributeError",
     "evalue": "'SuperMarioBrosEnv' object has no attribute 'render_mode'",
     "output_type": "error",
     "traceback": [
      "\u001b[1;31m---------------------------------------------------------------------------\u001b[0m",
      "\u001b[1;31mAttributeError\u001b[0m                            Traceback (most recent call last)",
      "\u001b[1;32mc:\\Users\\smyra\\jupyterNotebook Development\\ML&DL projects\\Mario\\Mario.ipynb Cell 12\u001b[0m in \u001b[0;36m<cell line: 17>\u001b[1;34m()\u001b[0m\n\u001b[0;32m     <a href='vscode-notebook-cell:/c%3A/Users/smyra/jupyterNotebook%20Development/ML%26DL%20projects/Mario/Mario.ipynb#X34sZmlsZQ%3D%3D?line=13'>14</a>\u001b[0m num_envs \u001b[39m=\u001b[39m \u001b[39m4\u001b[39m\n\u001b[0;32m     <a href='vscode-notebook-cell:/c%3A/Users/smyra/jupyterNotebook%20Development/ML%26DL%20projects/Mario/Mario.ipynb#X34sZmlsZQ%3D%3D?line=15'>16</a>\u001b[0m \u001b[39m# Create the vectorized environment\u001b[39;00m\n\u001b[1;32m---> <a href='vscode-notebook-cell:/c%3A/Users/smyra/jupyterNotebook%20Development/ML%26DL%20projects/Mario/Mario.ipynb#X34sZmlsZQ%3D%3D?line=16'>17</a>\u001b[0m env \u001b[39m=\u001b[39m DummyVecEnv([make_env(\u001b[39m'\u001b[39;49m\u001b[39mSuperMarioBros-v0\u001b[39;49m\u001b[39m'\u001b[39;49m, i) \u001b[39mfor\u001b[39;49;00m i \u001b[39min\u001b[39;49;00m \u001b[39mrange\u001b[39;49m(num_envs)])\n",
      "File \u001b[1;32mc:\\Users\\smyra\\anaconda3\\lib\\site-packages\\stable_baselines3\\common\\vec_env\\dummy_vec_env.py:30\u001b[0m, in \u001b[0;36mDummyVecEnv.__init__\u001b[1;34m(self, env_fns)\u001b[0m\n\u001b[0;32m     29\u001b[0m \u001b[39mdef\u001b[39;00m \u001b[39m__init__\u001b[39m(\u001b[39mself\u001b[39m, env_fns: List[Callable[[], gym\u001b[39m.\u001b[39mEnv]]):\n\u001b[1;32m---> 30\u001b[0m     \u001b[39mself\u001b[39m\u001b[39m.\u001b[39menvs \u001b[39m=\u001b[39m [_patch_env(fn()) \u001b[39mfor\u001b[39;00m fn \u001b[39min\u001b[39;00m env_fns]\n\u001b[0;32m     31\u001b[0m     \u001b[39mif\u001b[39;00m \u001b[39mlen\u001b[39m(\u001b[39mset\u001b[39m([\u001b[39mid\u001b[39m(env\u001b[39m.\u001b[39munwrapped) \u001b[39mfor\u001b[39;00m env \u001b[39min\u001b[39;00m \u001b[39mself\u001b[39m\u001b[39m.\u001b[39menvs])) \u001b[39m!=\u001b[39m \u001b[39mlen\u001b[39m(\u001b[39mself\u001b[39m\u001b[39m.\u001b[39menvs):\n\u001b[0;32m     32\u001b[0m         \u001b[39mraise\u001b[39;00m \u001b[39mValueError\u001b[39;00m(\n\u001b[0;32m     33\u001b[0m             \u001b[39m\"\u001b[39m\u001b[39mYou tried to create multiple environments, but the function to create them returned the same instance \u001b[39m\u001b[39m\"\u001b[39m\n\u001b[0;32m     34\u001b[0m             \u001b[39m\"\u001b[39m\u001b[39minstead of creating different objects. \u001b[39m\u001b[39m\"\u001b[39m\n\u001b[1;32m   (...)\u001b[0m\n\u001b[0;32m     39\u001b[0m             \u001b[39m\"\u001b[39m\u001b[39mPlease read https://github.com/DLR-RM/stable-baselines3/issues/1151 for more information.\u001b[39m\u001b[39m\"\u001b[39m\n\u001b[0;32m     40\u001b[0m         )\n",
      "File \u001b[1;32mc:\\Users\\smyra\\anaconda3\\lib\\site-packages\\stable_baselines3\\common\\vec_env\\dummy_vec_env.py:30\u001b[0m, in \u001b[0;36m<listcomp>\u001b[1;34m(.0)\u001b[0m\n\u001b[0;32m     29\u001b[0m \u001b[39mdef\u001b[39;00m \u001b[39m__init__\u001b[39m(\u001b[39mself\u001b[39m, env_fns: List[Callable[[], gym\u001b[39m.\u001b[39mEnv]]):\n\u001b[1;32m---> 30\u001b[0m     \u001b[39mself\u001b[39m\u001b[39m.\u001b[39menvs \u001b[39m=\u001b[39m [_patch_env(fn()) \u001b[39mfor\u001b[39;00m fn \u001b[39min\u001b[39;00m env_fns]\n\u001b[0;32m     31\u001b[0m     \u001b[39mif\u001b[39;00m \u001b[39mlen\u001b[39m(\u001b[39mset\u001b[39m([\u001b[39mid\u001b[39m(env\u001b[39m.\u001b[39munwrapped) \u001b[39mfor\u001b[39;00m env \u001b[39min\u001b[39;00m \u001b[39mself\u001b[39m\u001b[39m.\u001b[39menvs])) \u001b[39m!=\u001b[39m \u001b[39mlen\u001b[39m(\u001b[39mself\u001b[39m\u001b[39m.\u001b[39menvs):\n\u001b[0;32m     32\u001b[0m         \u001b[39mraise\u001b[39;00m \u001b[39mValueError\u001b[39;00m(\n\u001b[0;32m     33\u001b[0m             \u001b[39m\"\u001b[39m\u001b[39mYou tried to create multiple environments, but the function to create them returned the same instance \u001b[39m\u001b[39m\"\u001b[39m\n\u001b[0;32m     34\u001b[0m             \u001b[39m\"\u001b[39m\u001b[39minstead of creating different objects. \u001b[39m\u001b[39m\"\u001b[39m\n\u001b[1;32m   (...)\u001b[0m\n\u001b[0;32m     39\u001b[0m             \u001b[39m\"\u001b[39m\u001b[39mPlease read https://github.com/DLR-RM/stable-baselines3/issues/1151 for more information.\u001b[39m\u001b[39m\"\u001b[39m\n\u001b[0;32m     40\u001b[0m         )\n",
      "File \u001b[1;32mc:\\Users\\smyra\\anaconda3\\lib\\site-packages\\stable_baselines3\\common\\vec_env\\patch_gym.py:58\u001b[0m, in \u001b[0;36m_patch_env\u001b[1;34m(env)\u001b[0m\n\u001b[0;32m     49\u001b[0m warnings\u001b[39m.\u001b[39mwarn(\n\u001b[0;32m     50\u001b[0m     \u001b[39m\"\u001b[39m\u001b[39mYou provided an OpenAI Gym environment. \u001b[39m\u001b[39m\"\u001b[39m\n\u001b[0;32m     51\u001b[0m     \u001b[39m\"\u001b[39m\u001b[39mWe strongly recommend transitioning to Gymnasium environments. \u001b[39m\u001b[39m\"\u001b[39m\n\u001b[0;32m     52\u001b[0m     \u001b[39m\"\u001b[39m\u001b[39mStable-Baselines3 is automatically wrapping your environments in a compatibility \u001b[39m\u001b[39m\"\u001b[39m\n\u001b[0;32m     53\u001b[0m     \u001b[39m\"\u001b[39m\u001b[39mlayer, which could potentially cause issues.\u001b[39m\u001b[39m\"\u001b[39m\n\u001b[0;32m     54\u001b[0m )\n\u001b[0;32m     56\u001b[0m \u001b[39mif\u001b[39;00m \u001b[39m\"\u001b[39m\u001b[39mseed\u001b[39m\u001b[39m\"\u001b[39m \u001b[39min\u001b[39;00m signature(env\u001b[39m.\u001b[39munwrapped\u001b[39m.\u001b[39mreset)\u001b[39m.\u001b[39mparameters:\n\u001b[0;32m     57\u001b[0m     \u001b[39m# Gym 0.26+ env\u001b[39;00m\n\u001b[1;32m---> 58\u001b[0m     \u001b[39mreturn\u001b[39;00m shimmy\u001b[39m.\u001b[39;49mGymV26CompatibilityV0(env\u001b[39m=\u001b[39;49menv)\n\u001b[0;32m     59\u001b[0m \u001b[39m# Gym 0.21 env\u001b[39;00m\n\u001b[0;32m     60\u001b[0m \u001b[39mreturn\u001b[39;00m shimmy\u001b[39m.\u001b[39mGymV21CompatibilityV0(env\u001b[39m=\u001b[39menv)\n",
      "File \u001b[1;32mc:\\Users\\smyra\\anaconda3\\lib\\site-packages\\shimmy\\openai_gym_compatibility.py:90\u001b[0m, in \u001b[0;36mGymV26CompatibilityV0.__init__\u001b[1;34m(self, env_id, make_kwargs, env)\u001b[0m\n\u001b[0;32m     87\u001b[0m \u001b[39mself\u001b[39m\u001b[39m.\u001b[39maction_space \u001b[39m=\u001b[39m _convert_space(\u001b[39mself\u001b[39m\u001b[39m.\u001b[39mgym_env\u001b[39m.\u001b[39maction_space)\n\u001b[0;32m     89\u001b[0m \u001b[39mself\u001b[39m\u001b[39m.\u001b[39mmetadata \u001b[39m=\u001b[39m \u001b[39mgetattr\u001b[39m(\u001b[39mself\u001b[39m\u001b[39m.\u001b[39mgym_env, \u001b[39m\"\u001b[39m\u001b[39mmetadata\u001b[39m\u001b[39m\"\u001b[39m, {\u001b[39m\"\u001b[39m\u001b[39mrender_modes\u001b[39m\u001b[39m\"\u001b[39m: []})\n\u001b[1;32m---> 90\u001b[0m \u001b[39mself\u001b[39m\u001b[39m.\u001b[39mrender_mode \u001b[39m=\u001b[39m \u001b[39mself\u001b[39;49m\u001b[39m.\u001b[39;49mgym_env\u001b[39m.\u001b[39;49mrender_mode\n\u001b[0;32m     91\u001b[0m \u001b[39mself\u001b[39m\u001b[39m.\u001b[39mreward_range \u001b[39m=\u001b[39m \u001b[39mgetattr\u001b[39m(\u001b[39mself\u001b[39m\u001b[39m.\u001b[39mgym_env, \u001b[39m\"\u001b[39m\u001b[39mreward_range\u001b[39m\u001b[39m\"\u001b[39m, \u001b[39mNone\u001b[39;00m)\n\u001b[0;32m     92\u001b[0m \u001b[39mself\u001b[39m\u001b[39m.\u001b[39mspec \u001b[39m=\u001b[39m \u001b[39mgetattr\u001b[39m(\u001b[39mself\u001b[39m\u001b[39m.\u001b[39mgym_env, \u001b[39m\"\u001b[39m\u001b[39mspec\u001b[39m\u001b[39m\"\u001b[39m, \u001b[39mNone\u001b[39;00m)\n",
      "File \u001b[1;32mc:\\Users\\smyra\\anaconda3\\lib\\site-packages\\gym\\core.py:223\u001b[0m, in \u001b[0;36mWrapper.__getattr__\u001b[1;34m(self, name)\u001b[0m\n\u001b[0;32m    221\u001b[0m \u001b[39mif\u001b[39;00m name\u001b[39m.\u001b[39mstartswith(\u001b[39m'\u001b[39m\u001b[39m_\u001b[39m\u001b[39m'\u001b[39m):\n\u001b[0;32m    222\u001b[0m     \u001b[39mraise\u001b[39;00m \u001b[39mAttributeError\u001b[39;00m(\u001b[39m\"\u001b[39m\u001b[39mattempted to get missing private attribute \u001b[39m\u001b[39m'\u001b[39m\u001b[39m{}\u001b[39;00m\u001b[39m'\u001b[39m\u001b[39m\"\u001b[39m\u001b[39m.\u001b[39mformat(name))\n\u001b[1;32m--> 223\u001b[0m \u001b[39mreturn\u001b[39;00m \u001b[39mgetattr\u001b[39;49m(\u001b[39mself\u001b[39;49m\u001b[39m.\u001b[39;49menv, name)\n",
      "\u001b[1;31mAttributeError\u001b[0m: 'SuperMarioBrosEnv' object has no attribute 'render_mode'"
     ]
    }
   ],
   "source": [
    "\n",
    "# warp inside the Dummy Enivornment\n",
    " # Vectorize the environment to run multiple instances of the environment at the same time\n",
    "import gym\n",
    "\n",
    "# Create a function to make the environment\n",
    "def make_env(env_id, rank, seed=0):\n",
    "    def _init():\n",
    "        env = gym.make(env_id)\n",
    "        env.seed(seed + rank)\n",
    "        return env\n",
    "    return _init\n",
    "\n",
    "# Set the number of environments to use\n",
    "num_envs = 4\n",
    "\n",
    "# Create the vectorized environment\n",
    "env = DummyVecEnv([make_env('SuperMarioBros-v0', i) for i in range(num_envs)])\n",
    "\n"
   ]
  },
  {
   "cell_type": "code",
   "execution_count": null,
   "id": "d0e8899f",
   "metadata": {},
   "outputs": [],
   "source": [
    "\n",
    "# Stack frames this will give the agent some kind of memory\n",
    "env = VecFrameStack(env, n_stack=4, channels_order= 'last') # Stack 4 consecutive frames together to give the agent a sense of motion"
   ]
  },
  {
   "cell_type": "code",
   "execution_count": 21,
   "id": "5a1eabc3",
   "metadata": {},
   "outputs": [],
   "source": [
    "state = env.reset()"
   ]
  },
  {
   "cell_type": "code",
   "execution_count": 22,
   "id": "b7b0d174",
   "metadata": {},
   "outputs": [
    {
     "ename": "TypeError",
     "evalue": "unhashable type: 'list'",
     "output_type": "error",
     "traceback": [
      "\u001b[1;31m---------------------------------------------------------------------------\u001b[0m",
      "\u001b[1;31mTypeError\u001b[0m                                 Traceback (most recent call last)",
      "\u001b[1;32mc:\\Users\\smyra\\jupyterNotebook Development\\ML&DL projects\\Mario\\Mario.ipynb Cell 12\u001b[0m in \u001b[0;36m<cell line: 1>\u001b[1;34m()\u001b[0m\n\u001b[1;32m----> <a href='vscode-notebook-cell:/c%3A/Users/smyra/jupyterNotebook%20Development/ML%26DL%20projects/Mario/Mario.ipynb#X24sZmlsZQ%3D%3D?line=0'>1</a>\u001b[0m state, reward, done, info \u001b[39m=\u001b[39m env\u001b[39m.\u001b[39;49mstep([\u001b[39m5\u001b[39;49m])\n",
      "File \u001b[1;32mc:\\Users\\smyra\\anaconda3\\lib\\site-packages\\nes_py\\wrappers\\joypad_space.py:74\u001b[0m, in \u001b[0;36mJoypadSpace.step\u001b[1;34m(self, action)\u001b[0m\n\u001b[0;32m     59\u001b[0m \u001b[39m\"\"\"\u001b[39;00m\n\u001b[0;32m     60\u001b[0m \u001b[39mTake a step using the given action.\u001b[39;00m\n\u001b[0;32m     61\u001b[0m \n\u001b[1;32m   (...)\u001b[0m\n\u001b[0;32m     71\u001b[0m \n\u001b[0;32m     72\u001b[0m \u001b[39m\"\"\"\u001b[39;00m\n\u001b[0;32m     73\u001b[0m \u001b[39m# take the step and record the output\u001b[39;00m\n\u001b[1;32m---> 74\u001b[0m \u001b[39mreturn\u001b[39;00m \u001b[39mself\u001b[39m\u001b[39m.\u001b[39menv\u001b[39m.\u001b[39mstep(\u001b[39mself\u001b[39;49m\u001b[39m.\u001b[39;49m_action_map[action])\n",
      "\u001b[1;31mTypeError\u001b[0m: unhashable type: 'list'"
     ]
    }
   ],
   "source": [
    "state, reward, done, info = env.step([5])"
   ]
  },
  {
   "cell_type": "markdown",
   "id": "0b9f6164",
   "metadata": {},
   "source": [
    "# "
   ]
  }
 ],
 "metadata": {
  "kernelspec": {
   "display_name": "Python 3 (ipykernel)",
   "language": "python",
   "name": "python3"
  },
  "language_info": {
   "codemirror_mode": {
    "name": "ipython",
    "version": 3
   },
   "file_extension": ".py",
   "mimetype": "text/x-python",
   "name": "python",
   "nbconvert_exporter": "python",
   "pygments_lexer": "ipython3",
   "version": "3.9.12"
  },
  "varInspector": {
   "cols": {
    "lenName": 16,
    "lenType": 16,
    "lenVar": 40
   },
   "kernels_config": {
    "python": {
     "delete_cmd_postfix": "",
     "delete_cmd_prefix": "del ",
     "library": "var_list.py",
     "varRefreshCmd": "print(var_dic_list())"
    },
    "r": {
     "delete_cmd_postfix": ") ",
     "delete_cmd_prefix": "rm(",
     "library": "var_list.r",
     "varRefreshCmd": "cat(var_dic_list()) "
    }
   },
   "types_to_exclude": [
    "module",
    "function",
    "builtin_function_or_method",
    "instance",
    "_Feature"
   ],
   "window_display": false
  }
 },
 "nbformat": 4,
 "nbformat_minor": 5
}
