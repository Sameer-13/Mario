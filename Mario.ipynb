{
 "cells": [
  {
   "cell_type": "markdown",
   "id": "ba92084f",
   "metadata": {},
   "source": [
    "# Mario"
   ]
  },
  {
   "cell_type": "markdown",
   "id": "f2fa3e04",
   "metadata": {},
   "source": [
    "# Setup Mario Environment"
   ]
  },
  {
   "cell_type": "code",
   "execution_count": 86,
   "id": "b7458c55",
   "metadata": {
    "ExecuteTime": {
     "end_time": "2023-08-02T15:19:09.223935Z",
     "start_time": "2023-08-02T15:19:08.848898Z"
    }
   },
   "outputs": [],
   "source": [
    "# Import the joypad wrappers\n",
    "from nes_py.wrappers import JoypadSpace\n",
    "# Import the game\n",
    "import gym_super_mario_bros\n",
    "# Import the simplified controls\n",
    "from gym_super_mario_bros.actions import SIMPLE_MOVEMENT"
   ]
  },
  {
   "cell_type": "code",
   "execution_count": 87,
   "id": "4a1f787e",
   "metadata": {},
   "outputs": [
    {
     "data": {
      "text/plain": [
       "[['NOOP'],\n",
       " ['right'],\n",
       " ['right', 'A'],\n",
       " ['right', 'B'],\n",
       " ['right', 'A', 'B'],\n",
       " ['A'],\n",
       " ['left']]"
      ]
     },
     "execution_count": 87,
     "metadata": {},
     "output_type": "execute_result"
    }
   ],
   "source": [
    "# Simplfy the movement of Mario using SIMPLE_Movement\n",
    "SIMPLE_MOVEMENT"
   ]
  },
  {
   "cell_type": "code",
   "execution_count": 88,
   "id": "ca5ad270",
   "metadata": {},
   "outputs": [],
   "source": [
    "# Setup the environment\n",
    "env = gym_super_mario_bros.make('SuperMarioBros-v0')\n",
    "env = JoypadSpace(env, SIMPLE_MOVEMENT) # Limit the action-space from 256 to the 7 basic actions by wrapping the environment in a JoypadSpace wrapper"
   ]
  },
  {
   "cell_type": "code",
   "execution_count": 89,
   "id": "1c6a389f",
   "metadata": {},
   "outputs": [
    {
     "data": {
      "text/plain": [
       "(240, 256, 3)"
      ]
     },
     "execution_count": 89,
     "metadata": {},
     "output_type": "execute_result"
    }
   ],
   "source": [
    "# To see what the environment looks like\n",
    "env.observation_space.shape  # 240 pixels by 256 pixels in 3 colors channels, which represents the frame of the game"
   ]
  },
  {
   "cell_type": "code",
   "execution_count": 90,
   "id": "0f64e01a",
   "metadata": {},
   "outputs": [],
   "source": [
    "# Randomly test the environment\n",
    "done = True \n",
    "# Loop through 100000 steps (each frame in the game)\n",
    "for step in range(100):\n",
    "    if done:\n",
    "        env.reset()\n",
    "    state, reward, done, info = env.step(env.action_space.sample())\n",
    "    # Show the game\n",
    "    env.render()\n",
    "# close the environment\n",
    "env.close()\n"
   ]
  },
  {
   "cell_type": "markdown",
   "id": "af66094e",
   "metadata": {},
   "source": [
    "# Preprocessing Environment"
   ]
  },
  {
   "cell_type": "code",
   "execution_count": 91,
   "id": "b79751b7",
   "metadata": {},
   "outputs": [],
   "source": [
    "# Import Frame Stacker Wrapper and GrayScaling Wrapper\n",
    "from gym.wrappers import GrayScaleObservation\n",
    "# Import Vectorization Wrappers\n",
    "from stable_baselines3.common.vec_env import VecFrameStack, SubprocVecEnv, DummyVecEnv\n",
    "# Import Matplotlib to show the impact of frame stacking\n",
    "from matplotlib import pyplot as plt"
   ]
  },
  {
   "cell_type": "code",
   "execution_count": 92,
   "id": "bc0d562b",
   "metadata": {},
   "outputs": [],
   "source": [
    "# Create the base environment\n",
    "env = gym_super_mario_bros.make('SuperMarioBros-v0')\n",
    "# Simplify the controls\n",
    "env = JoypadSpace(env, SIMPLE_MOVEMENT) # Limit the action-space from 256 to the 7 basic actions by wrapping the environment in a JoypadSpace wrapper"
   ]
  },
  {
   "cell_type": "code",
   "execution_count": 93,
   "id": "00e82004",
   "metadata": {},
   "outputs": [],
   "source": [
    "\n",
    "# Gray-scale and down-sample in order to reduce the computation time for the Reinforcement Learning model\n",
    "env = GrayScaleObservation(env, keep_dim=True) # Color channels will become 1"
   ]
  },
  {
   "cell_type": "code",
   "execution_count": 95,
   "id": "2bb7d6ca",
   "metadata": {},
   "outputs": [
    {
     "data": {
      "text/plain": [
       "(240, 256, 1)"
      ]
     },
     "execution_count": 95,
     "metadata": {},
     "output_type": "execute_result"
    }
   ],
   "source": [
    "state = env.reset()\n",
    "state.shape"
   ]
  },
  {
   "cell_type": "markdown",
   "id": "017f82cb",
   "metadata": {},
   "source": [
    "So we jump from 240*256*3 = 184320 bits to 240*256*1 = 61440 bits!"
   ]
  },
  {
   "cell_type": "code",
   "execution_count": 96,
   "id": "17f75e0a",
   "metadata": {},
   "outputs": [],
   "source": [
    "# warp inside the Dummy Enivornment\n",
    "\n",
    "env = DummyVecEnv([lambda: env])\n"
   ]
  },
  {
   "cell_type": "code",
   "execution_count": 97,
   "id": "d0e8899f",
   "metadata": {},
   "outputs": [],
   "source": [
    "\n",
    "# Stack frames this will give the agent some kind of memory\n",
    "env = VecFrameStack(env, n_stack=4, channels_order= 'last') # Stack 4 consecutive frames together to give the agent a sense of motion"
   ]
  },
  {
   "cell_type": "code",
   "execution_count": 98,
   "id": "5a1eabc3",
   "metadata": {},
   "outputs": [],
   "source": [
    "state = env.reset()"
   ]
  },
  {
   "cell_type": "code",
   "execution_count": 99,
   "id": "b7b0d174",
   "metadata": {},
   "outputs": [],
   "source": [
    "state, reward, done, info = env.step([env.action_space.sample()])"
   ]
  },
  {
   "cell_type": "code",
   "execution_count": 100,
   "id": "3886cf2b",
   "metadata": {},
   "outputs": [
    {
     "data": {
      "text/plain": [
       "<matplotlib.image.AxesImage at 0x2ba8be2ebb0>"
      ]
     },
     "execution_count": 100,
     "metadata": {},
     "output_type": "execute_result"
    },
    {
     "data": {
      "image/png": "[encoded data removed]",
      "text/plain": [
       "<Figure size 432x288 with 1 Axes>"
      ]
     },
     "metadata": {
      "needs_background": "light"
     },
     "output_type": "display_data"
    }
   ],
   "source": [
    "plt.imshow(state[0])"
   ]
  },
  {
   "cell_type": "code",
   "execution_count": 101,
   "id": "62261cfb",
   "metadata": {},
   "outputs": [
    {
     "data": {
      "image/png": "[encoded data removed]",
      "text/plain": [
       "<Figure size 1080x720 with 4 Axes>"
      ]
     },
     "metadata": {
      "needs_background": "light"
     },
     "output_type": "display_data"
    }
   ],
   "source": [
    "# Note run state, reward, done, info = env.step([env.action_space.sample()])\n",
    "# Four times to get the visulaization of four steps in the environment\n",
    "plt.figure(figsize=(15,10))\n",
    "for idx in  range(state.shape[3]):\n",
    "    plt.subplot(1, 4, idx+1)\n",
    "    plt.imshow(state[0][:, :, idx])\n",
    "plt.show()"
   ]
  },
  {
   "cell_type": "markdown",
   "id": "42695140",
   "metadata": {},
   "source": [
    "## Training The Model"
   ]
  },
  {
   "cell_type": "code",
   "execution_count": 102,
   "id": "eb182dac",
   "metadata": {},
   "outputs": [],
   "source": [
    "# Import os for file path management\n",
    "import os\n",
    "# Import PPO Reinforcement algorithm\n",
    "from stable_baselines3 import PPO\n",
    "# Import Base Callback for saving models\n",
    "from stable_baselines3.common.callbacks import BaseCallback"
   ]
  },
  {
   "cell_type": "code",
   "execution_count": 103,
   "id": "c33e99f8",
   "metadata": {},
   "outputs": [],
   "source": [
    "# Setup Directory for saving tensorboard logs and trained models\n",
    "CHECKPOINT_DIR = './train/'\n",
    "LOG_DIR = './logs/'"
   ]
  },
  {
   "cell_type": "code",
   "execution_count": 104,
   "id": "224b2b4e",
   "metadata": {},
   "outputs": [
    {
     "name": "stdout",
     "output_type": "stream",
     "text": [
      "Using cpu device\n",
      "Wrapping the env in a VecTransposeImage.\n"
     ]
    }
   ],
   "source": [
    "# Setup the PPO Reinforcement Learning model\n",
    "model = PPO('CnnPolicy', env, verbose=1, tensorboard_log=LOG_DIR, device=\"cuda\", learning_rate=0.000001, n_steps=512) "
   ]
  },
  {
   "cell_type": "code",
   "execution_count": 105,
   "id": "63fe95bd",
   "metadata": {},
   "outputs": [
    {
     "name": "stdout",
     "output_type": "stream",
     "text": [
      "Logging to ./logs/PPO_4\n"
     ]
    },
    {
     "name": "stdout",
     "output_type": "stream",
     "text": [
      "----------------------------\n",
      "| time/              |     |\n",
      "|    fps             | 58  |\n",
      "|    iterations      | 1   |\n",
      "|    time_elapsed    | 8   |\n",
      "|    total_timesteps | 512 |\n",
      "----------------------------\n",
      "------------------------------------------\n",
      "| time/                   |              |\n",
      "|    fps                  | 8            |\n",
      "|    iterations           | 2            |\n",
      "|    time_elapsed         | 119          |\n",
      "|    total_timesteps      | 1024         |\n",
      "| train/                  |              |\n",
      "|    approx_kl            | 9.625568e-06 |\n",
      "|    clip_fraction        | 0            |\n",
      "|    clip_range           | 0.2          |\n",
      "|    entropy_loss         | -1.95        |\n",
      "|    explained_variance   | -0.00191     |\n",
      "|    learning_rate        | 1e-06        |\n",
      "|    loss                 | 205          |\n",
      "|    n_updates            | 10           |\n",
      "|    policy_gradient_loss | -6.69e-05    |\n",
      "|    value_loss           | 551          |\n",
      "------------------------------------------\n",
      "-------------------------------------------\n",
      "| time/                   |               |\n",
      "|    fps                  | 5             |\n",
      "|    iterations           | 3             |\n",
      "|    time_elapsed         | 258           |\n",
      "|    total_timesteps      | 1536          |\n",
      "| train/                  |               |\n",
      "|    approx_kl            | 5.0651957e-05 |\n",
      "|    clip_fraction        | 0             |\n",
      "|    clip_range           | 0.2           |\n",
      "|    entropy_loss         | -1.95         |\n",
      "|    explained_variance   | 0.00351       |\n",
      "|    learning_rate        | 1e-06         |\n",
      "|    loss                 | 0.237         |\n",
      "|    n_updates            | 20            |\n",
      "|    policy_gradient_loss | -0.000828     |\n",
      "|    value_loss           | 1.69          |\n",
      "-------------------------------------------\n",
      "------------------------------------------\n",
      "| time/                   |              |\n",
      "|    fps                  | 5            |\n",
      "|    iterations           | 4            |\n",
      "|    time_elapsed         | 363          |\n",
      "|    total_timesteps      | 2048         |\n",
      "| train/                  |              |\n",
      "|    approx_kl            | 5.643582e-06 |\n",
      "|    clip_fraction        | 0            |\n",
      "|    clip_range           | 0.2          |\n",
      "|    entropy_loss         | -1.95        |\n",
      "|    explained_variance   | 0.00527      |\n",
      "|    learning_rate        | 1e-06        |\n",
      "|    loss                 | 0.191        |\n",
      "|    n_updates            | 30           |\n",
      "|    policy_gradient_loss | -0.000123    |\n",
      "|    value_loss           | 0.785        |\n",
      "------------------------------------------\n",
      "------------------------------------------\n",
      "| time/                   |              |\n",
      "|    fps                  | 5            |\n",
      "|    iterations           | 5            |\n",
      "|    time_elapsed         | 467          |\n",
      "|    total_timesteps      | 2560         |\n",
      "| train/                  |              |\n",
      "|    approx_kl            | 8.332776e-06 |\n",
      "|    clip_fraction        | 0            |\n",
      "|    clip_range           | 0.2          |\n",
      "|    entropy_loss         | -1.95        |\n",
      "|    explained_variance   | 0.000847     |\n",
      "|    learning_rate        | 1e-06        |\n",
      "|    loss                 | 0.209        |\n",
      "|    n_updates            | 40           |\n",
      "|    policy_gradient_loss | -0.000121    |\n",
      "|    value_loss           | 0.671        |\n",
      "------------------------------------------\n",
      "-------------------------------------------\n",
      "| time/                   |               |\n",
      "|    fps                  | 5             |\n",
      "|    iterations           | 6             |\n",
      "|    time_elapsed         | 568           |\n",
      "|    total_timesteps      | 3072          |\n",
      "| train/                  |               |\n",
      "|    approx_kl            | 3.2577664e-06 |\n",
      "|    clip_fraction        | 0             |\n",
      "|    clip_range           | 0.2           |\n",
      "|    entropy_loss         | -1.95         |\n",
      "|    explained_variance   | -0.00142      |\n",
      "|    learning_rate        | 1e-06         |\n",
      "|    loss                 | 0.108         |\n",
      "|    n_updates            | 50            |\n",
      "|    policy_gradient_loss | -3.06e-05     |\n",
      "|    value_loss           | 0.318         |\n",
      "-------------------------------------------\n",
      "------------------------------------------\n",
      "| time/                   |              |\n",
      "|    fps                  | 5            |\n",
      "|    iterations           | 7            |\n",
      "|    time_elapsed         | 680          |\n",
      "|    total_timesteps      | 3584         |\n",
      "| train/                  |              |\n",
      "|    approx_kl            | 4.189438e-06 |\n",
      "|    clip_fraction        | 0            |\n",
      "|    clip_range           | 0.2          |\n",
      "|    entropy_loss         | -1.95        |\n",
      "|    explained_variance   | -0.00352     |\n",
      "|    learning_rate        | 1e-06        |\n",
      "|    loss                 | 2.43         |\n",
      "|    n_updates            | 60           |\n",
      "|    policy_gradient_loss | -0.000133    |\n",
      "|    value_loss           | 3.79         |\n",
      "------------------------------------------\n",
      "------------------------------------------\n",
      "| time/                   |              |\n",
      "|    fps                  | 5            |\n",
      "|    iterations           | 8            |\n",
      "|    time_elapsed         | 785          |\n",
      "|    total_timesteps      | 4096         |\n",
      "| train/                  |              |\n",
      "|    approx_kl            | 8.189119e-06 |\n",
      "|    clip_fraction        | 0            |\n",
      "|    clip_range           | 0.2          |\n",
      "|    entropy_loss         | -1.95        |\n",
      "|    explained_variance   | 0.0214       |\n",
      "|    learning_rate        | 1e-06        |\n",
      "|    loss                 | 0.109        |\n",
      "|    n_updates            | 70           |\n",
      "|    policy_gradient_loss | -0.000174    |\n",
      "|    value_loss           | 0.233        |\n",
      "------------------------------------------\n",
      "-------------------------------------------\n",
      "| time/                   |               |\n",
      "|    fps                  | 5             |\n",
      "|    iterations           | 9             |\n",
      "|    time_elapsed         | 893           |\n",
      "|    total_timesteps      | 4608          |\n",
      "| train/                  |               |\n",
      "|    approx_kl            | 7.3281117e-06 |\n",
      "|    clip_fraction        | 0             |\n",
      "|    clip_range           | 0.2           |\n",
      "|    entropy_loss         | -1.95         |\n",
      "|    explained_variance   | 0.0136        |\n",
      "|    learning_rate        | 1e-06         |\n",
      "|    loss                 | 0.131         |\n",
      "|    n_updates            | 80            |\n",
      "|    policy_gradient_loss | -0.000157     |\n",
      "|    value_loss           | 0.285         |\n",
      "-------------------------------------------\n",
      "-------------------------------------------\n",
      "| time/                   |               |\n",
      "|    fps                  | 5             |\n",
      "|    iterations           | 10            |\n",
      "|    time_elapsed         | 1002          |\n",
      "|    total_timesteps      | 5120          |\n",
      "| train/                  |               |\n",
      "|    approx_kl            | 1.8192222e-05 |\n",
      "|    clip_fraction        | 0             |\n",
      "|    clip_range           | 0.2           |\n",
      "|    entropy_loss         | -1.95         |\n",
      "|    explained_variance   | 0.0263        |\n",
      "|    learning_rate        | 1e-06         |\n",
      "|    loss                 | 0.121         |\n",
      "|    n_updates            | 90            |\n",
      "|    policy_gradient_loss | -0.000272     |\n",
      "|    value_loss           | 0.277         |\n",
      "-------------------------------------------\n"
     ]
    },
    {
     "data": {
      "text/plain": [
       "<stable_baselines3.ppo.ppo.PPO at 0x2ba9080d100>"
      ]
     },
     "execution_count": 105,
     "metadata": {},
     "output_type": "execute_result"
    }
   ],
   "source": [
    "# Train the model\n",
    "model.learn(total_timesteps=100000)"
   ]
  },
  {
   "cell_type": "code",
   "execution_count": 106,
   "id": "e0fdbcf3",
   "metadata": {},
   "outputs": [],
   "source": [
    "model.save(\"./train/thisisatestmodel\")"
   ]
  },
  {
   "cell_type": "markdown",
   "id": "4583316c",
   "metadata": {},
   "source": [
    "# Model Testing"
   ]
  },
  {
   "cell_type": "code",
   "execution_count": 107,
   "id": "68860181",
   "metadata": {},
   "outputs": [],
   "source": [
    "# Load model\n",
    "model = PPO.load('./train/thisisatestmodel')"
   ]
  },
  {
   "cell_type": "code",
   "execution_count": 108,
   "id": "80ee5175",
   "metadata": {},
   "outputs": [],
   "source": [
    "state = env.reset()"
   ]
  },
  {
   "cell_type": "code",
   "execution_count": 109,
   "id": "5fd3e56c",
   "metadata": {},
   "outputs": [
    {
     "ename": "KeyboardInterrupt",
     "evalue": "",
     "output_type": "error",
     "traceback": [
      "\u001b[1;31m---------------------------------------------------------------------------\u001b[0m",
      "\u001b[1;31mKeyboardInterrupt\u001b[0m                         Traceback (most recent call last)",
      "\u001b[1;32mc:\\Users\\smyra\\jupyterNotebook Development\\ML&DL projects\\Mario\\Mario.ipynb Cell 30\u001b[0m in \u001b[0;36m<cell line: 5>\u001b[1;34m()\u001b[0m\n\u001b[0;32m      <a href='vscode-notebook-cell:/c%3A/Users/smyra/jupyterNotebook%20Development/ML%26DL%20projects/Mario/Mario.ipynb#X50sZmlsZQ%3D%3D?line=2'>3</a>\u001b[0m \u001b[39m# Loop through the game\u001b[39;00m\n\u001b[0;32m      <a href='vscode-notebook-cell:/c%3A/Users/smyra/jupyterNotebook%20Development/ML%26DL%20projects/Mario/Mario.ipynb#X50sZmlsZQ%3D%3D?line=3'>4</a>\u001b[0m \u001b[39mwhile\u001b[39;00m \u001b[39mTrue\u001b[39;00m: \n\u001b[1;32m----> <a href='vscode-notebook-cell:/c%3A/Users/smyra/jupyterNotebook%20Development/ML%26DL%20projects/Mario/Mario.ipynb#X50sZmlsZQ%3D%3D?line=4'>5</a>\u001b[0m     action, _ \u001b[39m=\u001b[39m model\u001b[39m.\u001b[39;49mpredict(state)\n\u001b[0;32m      <a href='vscode-notebook-cell:/c%3A/Users/smyra/jupyterNotebook%20Development/ML%26DL%20projects/Mario/Mario.ipynb#X50sZmlsZQ%3D%3D?line=5'>6</a>\u001b[0m     state, reward, done, info \u001b[39m=\u001b[39m env\u001b[39m.\u001b[39mstep(action)\n\u001b[0;32m      <a href='vscode-notebook-cell:/c%3A/Users/smyra/jupyterNotebook%20Development/ML%26DL%20projects/Mario/Mario.ipynb#X50sZmlsZQ%3D%3D?line=6'>7</a>\u001b[0m     env\u001b[39m.\u001b[39mrender()\n",
      "File \u001b[1;32mc:\\Users\\smyra\\anaconda3\\lib\\site-packages\\stable_baselines3\\common\\base_class.py:562\u001b[0m, in \u001b[0;36mBaseAlgorithm.predict\u001b[1;34m(self, observation, state, episode_start, deterministic)\u001b[0m\n\u001b[0;32m    542\u001b[0m \u001b[39mdef\u001b[39;00m \u001b[39mpredict\u001b[39m(\n\u001b[0;32m    543\u001b[0m     \u001b[39mself\u001b[39m,\n\u001b[0;32m    544\u001b[0m     observation: np\u001b[39m.\u001b[39mndarray,\n\u001b[1;32m   (...)\u001b[0m\n\u001b[0;32m    547\u001b[0m     deterministic: \u001b[39mbool\u001b[39m \u001b[39m=\u001b[39m \u001b[39mFalse\u001b[39;00m,\n\u001b[0;32m    548\u001b[0m ) \u001b[39m-\u001b[39m\u001b[39m>\u001b[39m Tuple[np\u001b[39m.\u001b[39mndarray, Optional[Tuple[np\u001b[39m.\u001b[39mndarray, \u001b[39m.\u001b[39m\u001b[39m.\u001b[39m\u001b[39m.\u001b[39m]]]:\n\u001b[0;32m    549\u001b[0m \u001b[39m    \u001b[39m\u001b[39m\"\"\"\u001b[39;00m\n\u001b[0;32m    550\u001b[0m \u001b[39m    Get the policy action from an observation (and optional hidden state).\u001b[39;00m\n\u001b[0;32m    551\u001b[0m \u001b[39m    Includes sugar-coating to handle different observations (e.g. normalizing images).\u001b[39;00m\n\u001b[1;32m   (...)\u001b[0m\n\u001b[0;32m    560\u001b[0m \u001b[39m        (used in recurrent policies)\u001b[39;00m\n\u001b[0;32m    561\u001b[0m \u001b[39m    \"\"\"\u001b[39;00m\n\u001b[1;32m--> 562\u001b[0m     \u001b[39mreturn\u001b[39;00m \u001b[39mself\u001b[39;49m\u001b[39m.\u001b[39;49mpolicy\u001b[39m.\u001b[39;49mpredict(observation, state, episode_start, deterministic)\n",
      "File \u001b[1;32mc:\\Users\\smyra\\anaconda3\\lib\\site-packages\\stable_baselines3\\common\\policies.py:335\u001b[0m, in \u001b[0;36mBasePolicy.predict\u001b[1;34m(self, observation, state, episode_start, deterministic)\u001b[0m\n\u001b[0;32m    327\u001b[0m \u001b[39m# TODO (GH/1): add support for RNN policies\u001b[39;00m\n\u001b[0;32m    328\u001b[0m \u001b[39m# if state is None:\u001b[39;00m\n\u001b[0;32m    329\u001b[0m \u001b[39m#     state = self.initial_state\u001b[39;00m\n\u001b[0;32m    330\u001b[0m \u001b[39m# if episode_start is None:\u001b[39;00m\n\u001b[0;32m    331\u001b[0m \u001b[39m#     episode_start = [False for _ in range(self.n_envs)]\u001b[39;00m\n\u001b[0;32m    332\u001b[0m \u001b[39m# Switch to eval mode (this affects batch norm / dropout)\u001b[39;00m\n\u001b[0;32m    333\u001b[0m \u001b[39mself\u001b[39m\u001b[39m.\u001b[39mset_training_mode(\u001b[39mFalse\u001b[39;00m)\n\u001b[1;32m--> 335\u001b[0m observation, vectorized_env \u001b[39m=\u001b[39m \u001b[39mself\u001b[39;49m\u001b[39m.\u001b[39;49mobs_to_tensor(observation)\n\u001b[0;32m    337\u001b[0m \u001b[39mwith\u001b[39;00m th\u001b[39m.\u001b[39mno_grad():\n\u001b[0;32m    338\u001b[0m     actions \u001b[39m=\u001b[39m \u001b[39mself\u001b[39m\u001b[39m.\u001b[39m_predict(observation, deterministic\u001b[39m=\u001b[39mdeterministic)\n",
      "File \u001b[1;32mc:\\Users\\smyra\\anaconda3\\lib\\site-packages\\stable_baselines3\\common\\policies.py:240\u001b[0m, in \u001b[0;36mBaseModel.obs_to_tensor\u001b[1;34m(self, observation)\u001b[0m\n\u001b[0;32m    237\u001b[0m         \u001b[39m# Add batch dimension if needed\u001b[39;00m\n\u001b[0;32m    238\u001b[0m         observation[key] \u001b[39m=\u001b[39m obs_\u001b[39m.\u001b[39mreshape((\u001b[39m-\u001b[39m\u001b[39m1\u001b[39m,) \u001b[39m+\u001b[39m \u001b[39mself\u001b[39m\u001b[39m.\u001b[39mobservation_space[key]\u001b[39m.\u001b[39mshape)\n\u001b[1;32m--> 240\u001b[0m \u001b[39melif\u001b[39;00m is_image_space(\u001b[39mself\u001b[39;49m\u001b[39m.\u001b[39;49mobservation_space):\n\u001b[0;32m    241\u001b[0m     \u001b[39m# Handle the different cases for images\u001b[39;00m\n\u001b[0;32m    242\u001b[0m     \u001b[39m# as PyTorch use channel first format\u001b[39;00m\n\u001b[0;32m    243\u001b[0m     observation \u001b[39m=\u001b[39m maybe_transpose(observation, \u001b[39mself\u001b[39m\u001b[39m.\u001b[39mobservation_space)\n\u001b[0;32m    245\u001b[0m \u001b[39melse\u001b[39;00m:\n",
      "File \u001b[1;32mc:\\Users\\smyra\\anaconda3\\lib\\site-packages\\stable_baselines3\\common\\preprocessing.py:49\u001b[0m, in \u001b[0;36mis_image_space\u001b[1;34m(observation_space, check_channels)\u001b[0m\n\u001b[0;32m     46\u001b[0m     \u001b[39mreturn\u001b[39;00m \u001b[39mFalse\u001b[39;00m\n\u001b[0;32m     48\u001b[0m \u001b[39m# Check the value range\u001b[39;00m\n\u001b[1;32m---> 49\u001b[0m \u001b[39mif\u001b[39;00m np\u001b[39m.\u001b[39many(observation_space\u001b[39m.\u001b[39;49mlow \u001b[39m!=\u001b[39;49m \u001b[39m0\u001b[39;49m) \u001b[39mor\u001b[39;00m np\u001b[39m.\u001b[39many(observation_space\u001b[39m.\u001b[39mhigh \u001b[39m!=\u001b[39m \u001b[39m255\u001b[39m):\n\u001b[0;32m     50\u001b[0m     \u001b[39mreturn\u001b[39;00m \u001b[39mFalse\u001b[39;00m\n\u001b[0;32m     52\u001b[0m \u001b[39m# Skip channels check\u001b[39;00m\n",
      "\u001b[1;31mKeyboardInterrupt\u001b[0m: "
     ]
    }
   ],
   "source": [
    "# Start the game \n",
    "state = env.reset()\n",
    "# Loop through the game\n",
    "while True: \n",
    "    action, _ = model.predict(state)\n",
    "    state, reward, done, info = env.step(action)\n",
    "    env.render()"
   ]
  },
  {
   "cell_type": "markdown",
   "id": "0b9f6164",
   "metadata": {},
   "source": [
    "# "
   ]
  }
 ],
 "metadata": {
  "kernelspec": {
   "display_name": "Python 3 (ipykernel)",
   "language": "python",
   "name": "python3"
  },
  "language_info": {
   "codemirror_mode": {
    "name": "ipython",
    "version": 3
   },
   "file_extension": ".py",
   "mimetype": "text/x-python",
   "name": "python",
   "nbconvert_exporter": "python",
   "pygments_lexer": "ipython3",
   "version": "3.9.12"
  },
  "varInspector": {
   "cols": {
    "lenName": 16,
    "lenType": 16,
    "lenVar": 40
   },
   "kernels_config": {
    "python": {
     "delete_cmd_postfix": "",
     "delete_cmd_prefix": "del ",
     "library": "var_list.py",
     "varRefreshCmd": "print(var_dic_list())"
    },
    "r": {
     "delete_cmd_postfix": ") ",
     "delete_cmd_prefix": "rm(",
     "library": "var_list.r",
     "varRefreshCmd": "cat(var_dic_list()) "
    }
   },
   "types_to_exclude": [
    "module",
    "function",
    "builtin_function_or_method",
    "instance",
    "_Feature"
   ],
   "window_display": false
  }
 },
 "nbformat": 4,
 "nbformat_minor": 5
}
